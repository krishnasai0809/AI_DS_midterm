{
 "cells": [
  {
   "cell_type": "markdown",
   "metadata": {},
   "source": [
    "# Problem Statement:\n",
    "\n",
    "- Predict if the person has diabetes or not based on the given features.\n",
    "\n",
    "## Data context\n",
    "\n",
    "- State: Geographical location, possibly indicating regional differences in health outcomes.\n",
    "\n",
    "- Age_Group: Age categorization, which can help in understanding age-related risks.\n",
    "\n",
    "- Gender: Biological sex, which can influence health outcomes due to physiological differences.\n",
    "\n",
    "- BMI: Body Mass Index, a measure of body fat based on height and weight.\n",
    "\n",
    "- Smoking_Status: Indicates whether the individual is a smoker, which is a significant risk factor for many health issues.\n",
    "\n",
    "- Alcohol_Consumption: Level of alcohol intake, another lifestyle factor affecting health.\n",
    "\n",
    "- Exercise_Frequency: How often the individual exercises, impacting cardiovascular health.\n",
    "\n",
    "- Hypertension: Presence of high blood pressure, a risk factor for heart disease.\n",
    "\n",
    "- Diabetes: Presence of diabetes, which can increase the risk of heart attacks.\n",
    "\n",
    "- Cholesterol_Level: Levels of cholesterol in the blood, affecting heart health.\n",
    "\n",
    "- Family_History: Family history of heart disease, indicating genetic predisposition.\n",
    "\n",
    "- Stress_Level: Level of stress, which can impact both mental and physical health.\n",
    "\n",
    "- Diet_Type: Type of diet followed, influencing overall health and risk factors.\n",
    "\n",
    "- Heart_Attack_Severity: Severity of any heart attacks experienced.\n",
    "\n",
    "- Hospitalized: Whether the individual was hospitalized, indicating the severity of health issues.\n",
    "\n",
    "- Survived: Outcome of the health event, particularly survival after a heart attack.\n",
    "\n",
    "- Income_Level: Socioeconomic status, which can influence access to healthcare and lifestyle choices.\n",
    "\n",
    "- Urban_Rural: Whether the individual lives in an urban or rural area, affecting access to healthcare and lifestyle.\n",
    "\n",
    "- Employment_Status: Employment status, which can impact stress levels and access to healthcare.\n",
    "\n",
    "\n"
   ]
  },
  {
   "cell_type": "code",
   "execution_count": 2,
   "metadata": {},
   "outputs": [
    {
     "name": "stdout",
     "output_type": "stream",
     "text": [
      "Requirement already satisfied: pandas in ./.venv/lib/python3.11/site-packages (2.2.3)\n",
      "Requirement already satisfied: numpy in ./.venv/lib/python3.11/site-packages (2.0.2)\n",
      "Requirement already satisfied: matplotlib in ./.venv/lib/python3.11/site-packages (3.10.0)\n",
      "Requirement already satisfied: seaborn in ./.venv/lib/python3.11/site-packages (0.13.2)\n",
      "Requirement already satisfied: python-dateutil>=2.8.2 in ./.venv/lib/python3.11/site-packages (from pandas) (2.9.0.post0)\n",
      "Requirement already satisfied: pytz>=2020.1 in ./.venv/lib/python3.11/site-packages (from pandas) (2025.1)\n",
      "Requirement already satisfied: tzdata>=2022.7 in ./.venv/lib/python3.11/site-packages (from pandas) (2025.1)\n",
      "Requirement already satisfied: contourpy>=1.0.1 in ./.venv/lib/python3.11/site-packages (from matplotlib) (1.3.1)\n",
      "Requirement already satisfied: cycler>=0.10 in ./.venv/lib/python3.11/site-packages (from matplotlib) (0.12.1)\n",
      "Requirement already satisfied: fonttools>=4.22.0 in ./.venv/lib/python3.11/site-packages (from matplotlib) (4.56.0)\n",
      "Requirement already satisfied: kiwisolver>=1.3.1 in ./.venv/lib/python3.11/site-packages (from matplotlib) (1.4.8)\n",
      "Requirement already satisfied: packaging>=20.0 in ./.venv/lib/python3.11/site-packages (from matplotlib) (24.2)\n",
      "Requirement already satisfied: pillow>=8 in ./.venv/lib/python3.11/site-packages (from matplotlib) (11.1.0)\n",
      "Requirement already satisfied: pyparsing>=2.3.1 in ./.venv/lib/python3.11/site-packages (from matplotlib) (3.2.1)\n",
      "Requirement already satisfied: six>=1.5 in ./.venv/lib/python3.11/site-packages (from python-dateutil>=2.8.2->pandas) (1.17.0)\n",
      "Note: you may need to restart the kernel to use updated packages.\n"
     ]
    }
   ],
   "source": [
    "pip install pandas numpy matplotlib seaborn"
   ]
  },
  {
   "cell_type": "code",
   "execution_count": 3,
   "metadata": {},
   "outputs": [],
   "source": [
    "# Importing all the packages\n",
    "\n",
    "import pandas as pd\n",
    "import numpy as np\n",
    "import matplotlib.pyplot as plt \n",
    "import seaborn as sns"
   ]
  },
  {
   "cell_type": "code",
   "execution_count": 4,
   "metadata": {},
   "outputs": [
    {
     "data": {
      "text/html": [
       "<div>\n",
       "<style scoped>\n",
       "    .dataframe tbody tr th:only-of-type {\n",
       "        vertical-align: middle;\n",
       "    }\n",
       "\n",
       "    .dataframe tbody tr th {\n",
       "        vertical-align: top;\n",
       "    }\n",
       "\n",
       "    .dataframe thead th {\n",
       "        text-align: right;\n",
       "    }\n",
       "</style>\n",
       "<table border=\"1\" class=\"dataframe\">\n",
       "  <thead>\n",
       "    <tr style=\"text-align: right;\">\n",
       "      <th></th>\n",
       "      <th>State</th>\n",
       "      <th>Age_Group</th>\n",
       "      <th>Gender</th>\n",
       "      <th>BMI</th>\n",
       "      <th>Smoking_Status</th>\n",
       "      <th>Alcohol_Consumption</th>\n",
       "      <th>Exercise_Frequency</th>\n",
       "      <th>Hypertension</th>\n",
       "      <th>Diabetes</th>\n",
       "      <th>Cholesterol_Level</th>\n",
       "      <th>Family_History</th>\n",
       "      <th>Stress_Level</th>\n",
       "      <th>Diet_Type</th>\n",
       "      <th>Heart_Attack_Severity</th>\n",
       "      <th>Hospitalized</th>\n",
       "      <th>Survived</th>\n",
       "      <th>Income_Level</th>\n",
       "      <th>Urban_Rural</th>\n",
       "      <th>Employment_Status</th>\n",
       "    </tr>\n",
       "  </thead>\n",
       "  <tbody>\n",
       "    <tr>\n",
       "      <th>0</th>\n",
       "      <td>Ondo</td>\n",
       "      <td>Youth</td>\n",
       "      <td>Female</td>\n",
       "      <td>34.5</td>\n",
       "      <td>Non-Smoker</td>\n",
       "      <td>High</td>\n",
       "      <td>Occasionally</td>\n",
       "      <td>No</td>\n",
       "      <td>Yes</td>\n",
       "      <td>Borderline</td>\n",
       "      <td>Yes</td>\n",
       "      <td>Low</td>\n",
       "      <td>Unhealthy</td>\n",
       "      <td>Mild</td>\n",
       "      <td>No</td>\n",
       "      <td>Yes</td>\n",
       "      <td>Medium</td>\n",
       "      <td>Urban</td>\n",
       "      <td>Employed</td>\n",
       "    </tr>\n",
       "    <tr>\n",
       "      <th>1</th>\n",
       "      <td>FCT</td>\n",
       "      <td>Youth</td>\n",
       "      <td>Male</td>\n",
       "      <td>15.2</td>\n",
       "      <td>Non-Smoker</td>\n",
       "      <td>High</td>\n",
       "      <td>Occasionally</td>\n",
       "      <td>No</td>\n",
       "      <td>Yes</td>\n",
       "      <td>High</td>\n",
       "      <td>No</td>\n",
       "      <td>Moderate</td>\n",
       "      <td>Unhealthy</td>\n",
       "      <td>Mild</td>\n",
       "      <td>Yes</td>\n",
       "      <td>No</td>\n",
       "      <td>High</td>\n",
       "      <td>Rural</td>\n",
       "      <td>Employed</td>\n",
       "    </tr>\n",
       "    <tr>\n",
       "      <th>2</th>\n",
       "      <td>Borno</td>\n",
       "      <td>Youth</td>\n",
       "      <td>Female</td>\n",
       "      <td>25.0</td>\n",
       "      <td>Non-Smoker</td>\n",
       "      <td>High</td>\n",
       "      <td>Weekly</td>\n",
       "      <td>No</td>\n",
       "      <td>Yes</td>\n",
       "      <td>High</td>\n",
       "      <td>No</td>\n",
       "      <td>Moderate</td>\n",
       "      <td>Mixed</td>\n",
       "      <td>Moderate</td>\n",
       "      <td>Yes</td>\n",
       "      <td>No</td>\n",
       "      <td>Medium</td>\n",
       "      <td>Rural</td>\n",
       "      <td>Student</td>\n",
       "    </tr>\n",
       "    <tr>\n",
       "      <th>3</th>\n",
       "      <td>Katsina</td>\n",
       "      <td>Youth</td>\n",
       "      <td>Male</td>\n",
       "      <td>19.7</td>\n",
       "      <td>Non-Smoker</td>\n",
       "      <td>High</td>\n",
       "      <td>Occasionally</td>\n",
       "      <td>No</td>\n",
       "      <td>No</td>\n",
       "      <td>High</td>\n",
       "      <td>Yes</td>\n",
       "      <td>High</td>\n",
       "      <td>Healthy</td>\n",
       "      <td>Mild</td>\n",
       "      <td>Yes</td>\n",
       "      <td>No</td>\n",
       "      <td>Low</td>\n",
       "      <td>Rural</td>\n",
       "      <td>Unemployed</td>\n",
       "    </tr>\n",
       "    <tr>\n",
       "      <th>4</th>\n",
       "      <td>Kaduna</td>\n",
       "      <td>Adult</td>\n",
       "      <td>Female</td>\n",
       "      <td>35.6</td>\n",
       "      <td>Non-Smoker</td>\n",
       "      <td>Low</td>\n",
       "      <td>Rarely</td>\n",
       "      <td>No</td>\n",
       "      <td>Yes</td>\n",
       "      <td>High</td>\n",
       "      <td>Yes</td>\n",
       "      <td>High</td>\n",
       "      <td>Healthy</td>\n",
       "      <td>Moderate</td>\n",
       "      <td>No</td>\n",
       "      <td>Yes</td>\n",
       "      <td>Low</td>\n",
       "      <td>Rural</td>\n",
       "      <td>Student</td>\n",
       "    </tr>\n",
       "  </tbody>\n",
       "</table>\n",
       "</div>"
      ],
      "text/plain": [
       "     State Age_Group  Gender   BMI Smoking_Status Alcohol_Consumption  \\\n",
       "0     Ondo     Youth  Female  34.5     Non-Smoker                High   \n",
       "1      FCT     Youth    Male  15.2     Non-Smoker                High   \n",
       "2    Borno     Youth  Female  25.0     Non-Smoker                High   \n",
       "3  Katsina     Youth    Male  19.7     Non-Smoker                High   \n",
       "4   Kaduna     Adult  Female  35.6     Non-Smoker                 Low   \n",
       "\n",
       "  Exercise_Frequency Hypertension Diabetes Cholesterol_Level Family_History  \\\n",
       "0       Occasionally           No      Yes        Borderline            Yes   \n",
       "1       Occasionally           No      Yes              High             No   \n",
       "2             Weekly           No      Yes              High             No   \n",
       "3       Occasionally           No       No              High            Yes   \n",
       "4             Rarely           No      Yes              High            Yes   \n",
       "\n",
       "  Stress_Level  Diet_Type Heart_Attack_Severity Hospitalized Survived  \\\n",
       "0          Low  Unhealthy                  Mild           No      Yes   \n",
       "1     Moderate  Unhealthy                  Mild          Yes       No   \n",
       "2     Moderate      Mixed              Moderate          Yes       No   \n",
       "3         High    Healthy                  Mild          Yes       No   \n",
       "4         High    Healthy              Moderate           No      Yes   \n",
       "\n",
       "  Income_Level Urban_Rural Employment_Status  \n",
       "0       Medium       Urban          Employed  \n",
       "1         High       Rural          Employed  \n",
       "2       Medium       Rural           Student  \n",
       "3          Low       Rural        Unemployed  \n",
       "4          Low       Rural           Student  "
      ]
     },
     "execution_count": 4,
     "metadata": {},
     "output_type": "execute_result"
    }
   ],
   "source": [
    "df = pd.read_csv('nigeria_diabetes.csv')\n",
    "df.head()"
   ]
  },
  {
   "cell_type": "code",
   "execution_count": 5,
   "metadata": {},
   "outputs": [
    {
     "name": "stdout",
     "output_type": "stream",
     "text": [
      "['State', 'Age_Group', 'Gender', 'BMI', 'Smoking_Status', 'Alcohol_Consumption', 'Exercise_Frequency', 'Hypertension', 'Diabetes', 'Cholesterol_Level', 'Family_History', 'Stress_Level', 'Diet_Type', 'Heart_Attack_Severity', 'Hospitalized', 'Survived', 'Income_Level', 'Urban_Rural', 'Employment_Status']\n"
     ]
    }
   ],
   "source": [
    "print(df.columns.to_list())"
   ]
  },
  {
   "cell_type": "code",
   "execution_count": 6,
   "metadata": {},
   "outputs": [
    {
     "name": "stdout",
     "output_type": "stream",
     "text": [
      "(898796, 19)\n"
     ]
    }
   ],
   "source": [
    "print(df.shape)"
   ]
  },
  {
   "cell_type": "code",
   "execution_count": 7,
   "metadata": {},
   "outputs": [
    {
     "name": "stdout",
     "output_type": "stream",
     "text": [
      "<class 'pandas.core.frame.DataFrame'>\n",
      "RangeIndex: 898796 entries, 0 to 898795\n",
      "Data columns (total 19 columns):\n",
      " #   Column                 Non-Null Count   Dtype  \n",
      "---  ------                 --------------   -----  \n",
      " 0   State                  898796 non-null  object \n",
      " 1   Age_Group              898796 non-null  object \n",
      " 2   Gender                 898796 non-null  object \n",
      " 3   BMI                    898796 non-null  float64\n",
      " 4   Smoking_Status         898796 non-null  object \n",
      " 5   Alcohol_Consumption    673208 non-null  object \n",
      " 6   Exercise_Frequency     898796 non-null  object \n",
      " 7   Hypertension           898796 non-null  object \n",
      " 8   Diabetes               898796 non-null  object \n",
      " 9   Cholesterol_Level      898796 non-null  object \n",
      " 10  Family_History         898796 non-null  object \n",
      " 11  Stress_Level           898796 non-null  object \n",
      " 12  Diet_Type              898796 non-null  object \n",
      " 13  Heart_Attack_Severity  898796 non-null  object \n",
      " 14  Hospitalized           898796 non-null  object \n",
      " 15  Survived               898796 non-null  object \n",
      " 16  Income_Level           898796 non-null  object \n",
      " 17  Urban_Rural            898796 non-null  object \n",
      " 18  Employment_Status      898796 non-null  object \n",
      "dtypes: float64(1), object(18)\n",
      "memory usage: 130.3+ MB\n",
      "None\n"
     ]
    }
   ],
   "source": [
    "print(df.info())"
   ]
  },
  {
   "cell_type": "code",
   "execution_count": 8,
   "metadata": {},
   "outputs": [
    {
     "name": "stdout",
     "output_type": "stream",
     "text": [
      "                 BMI\n",
      "count  898796.000000\n",
      "mean       27.502941\n",
      "std         7.220324\n",
      "min        15.000000\n",
      "25%        21.200000\n",
      "50%        27.500000\n",
      "75%        33.800000\n",
      "max        40.000000\n"
     ]
    }
   ],
   "source": [
    "print(df.describe())"
   ]
  },
  {
   "cell_type": "code",
   "execution_count": 9,
   "metadata": {},
   "outputs": [
    {
     "data": {
      "text/plain": [
       "<Axes: ylabel='BMI'>"
      ]
     },
     "execution_count": 9,
     "metadata": {},
     "output_type": "execute_result"
    },
    {
     "data": {
      "image/png": "[encoded data removed]",
      "text/plain": [
       "<Figure size 640x480 with 1 Axes>"
      ]
     },
     "metadata": {},
     "output_type": "display_data"
    }
   ],
   "source": [
    "# plot a box plot for BMI column\n",
    "sns.boxplot(df[\"BMI\"])"
   ]
  },
  {
   "cell_type": "markdown",
   "metadata": {},
   "source": [
    "- There are no outliers in BMI column which is confirmed by both boxplot and describe method"
   ]
  },
  {
   "cell_type": "code",
   "execution_count": 10,
   "metadata": {},
   "outputs": [
    {
     "name": "stdout",
     "output_type": "stream",
     "text": [
      "no of unique values in State : 37\n",
      "no of unique values in Age_Group : 2\n",
      "no of unique values in Gender : 2\n",
      "no of unique values in BMI : 251\n",
      "no of unique values in Smoking_Status : 2\n",
      "no of unique values in Alcohol_Consumption : 3\n",
      "no of unique values in Exercise_Frequency : 4\n",
      "no of unique values in Hypertension : 2\n",
      "no of unique values in Diabetes : 2\n",
      "no of unique values in Cholesterol_Level : 3\n",
      "no of unique values in Family_History : 2\n",
      "no of unique values in Stress_Level : 3\n",
      "no of unique values in Diet_Type : 3\n",
      "no of unique values in Heart_Attack_Severity : 3\n",
      "no of unique values in Hospitalized : 2\n",
      "no of unique values in Survived : 2\n",
      "no of unique values in Income_Level : 3\n",
      "no of unique values in Urban_Rural : 2\n",
      "no of unique values in Employment_Status : 3\n"
     ]
    }
   ],
   "source": [
    "# getting the no of unique values in eac h column\n",
    "for col in df.columns:\n",
    "    print(f\"no of unique values in {col} : {df[col].nunique()}\")"
   ]
  },
  {
   "cell_type": "code",
   "execution_count": 11,
   "metadata": {},
   "outputs": [],
   "source": [
    "# making a list of numerical columns\n",
    "num_cols = [\"BMI\"]\n",
    "\n",
    "# classifying categorical columns in to Ordinal and Nominal columns without Diabetes\n",
    "\n",
    "ord_cols = [\"Age_Group\",\"Alcohol_Consumption\",\"Exercise_Frequency\",\"Cholesterol_Level\",\"Stress_Level\",\"Heart_Attack_Severity\",\"Income_Level\"]\n",
    "\n",
    "nom_cols = [\"State\",\"Gender\",\"Smoking_Status\",\"Hypertension\",\"Family_History\",\"Diet_Type\",\"Hospitalized\",\"Survived\",\"Urban_Rural\",\"Employment_Status\"]"
   ]
  },
  {
   "cell_type": "code",
   "execution_count": 12,
   "metadata": {},
   "outputs": [
    {
     "data": {
      "text/plain": [
       "18"
      ]
     },
     "execution_count": 12,
     "metadata": {},
     "output_type": "execute_result"
    }
   ],
   "source": [
    "len(num_cols) + len(ord_cols) + len(nom_cols)"
   ]
  },
  {
   "cell_type": "markdown",
   "metadata": {},
   "source": [
    "- There are only missing values in Alcohol_Consumption column"
   ]
  },
  {
   "cell_type": "code",
   "execution_count": 13,
   "metadata": {},
   "outputs": [
    {
     "data": {
      "text/plain": [
       "np.float64(25.09891009750822)"
      ]
     },
     "execution_count": 13,
     "metadata": {},
     "output_type": "execute_result"
    }
   ],
   "source": [
    "# getting the percentage of missing values in Alcohol_Consumption column\n",
    "\n",
    "df[\"Alcohol_Consumption\"].isnull().sum()/df.shape[0] * 100"
   ]
  },
  {
   "cell_type": "markdown",
   "metadata": {},
   "source": [
    "- We have more than 8 lakh data points and even  after dropping the missing values we have more 6 lakh data points which are suffcient to train our model"
   ]
  },
  {
   "cell_type": "code",
   "execution_count": 14,
   "metadata": {},
   "outputs": [
    {
     "data": {
      "text/plain": [
       "(673208, 19)"
      ]
     },
     "execution_count": 14,
     "metadata": {},
     "output_type": "execute_result"
    }
   ],
   "source": [
    "# dropping all the missing values\n",
    "df = df.dropna()\n",
    "df.shape"
   ]
  },
  {
   "cell_type": "code",
   "execution_count": 15,
   "metadata": {},
   "outputs": [],
   "source": [
    "# dividing the data into X,y\n",
    "\n",
    "X = df.drop(\"Diabetes\", axis = 1)\n",
    "y = df[\"Diabetes\"]"
   ]
  },
  {
   "cell_type": "code",
   "execution_count": 16,
   "metadata": {},
   "outputs": [
    {
     "data": {
      "text/plain": [
       "0         1\n",
       "1         1\n",
       "2         1\n",
       "3         0\n",
       "4         1\n",
       "         ..\n",
       "898790    0\n",
       "898791    1\n",
       "898793    0\n",
       "898794    1\n",
       "898795    0\n",
       "Name: Diabetes, Length: 673208, dtype: int64"
      ]
     },
     "execution_count": 16,
     "metadata": {},
     "output_type": "execute_result"
    }
   ],
   "source": [
    "# encoding the y \n",
    "# yes = 1 and no = 0\n",
    "y = y.map({\"Yes\":1,\"No\":0})\n",
    "y"
   ]
  },
  {
   "cell_type": "code",
   "execution_count": 17,
   "metadata": {},
   "outputs": [
    {
     "name": "stdout",
     "output_type": "stream",
     "text": [
      "Requirement already satisfied: scikit-learn in ./.venv/lib/python3.11/site-packages (1.6.1)\n",
      "Requirement already satisfied: numpy>=1.19.5 in ./.venv/lib/python3.11/site-packages (from scikit-learn) (2.0.2)\n",
      "Requirement already satisfied: scipy>=1.6.0 in ./.venv/lib/python3.11/site-packages (from scikit-learn) (1.15.1)\n",
      "Requirement already satisfied: joblib>=1.2.0 in ./.venv/lib/python3.11/site-packages (from scikit-learn) (1.4.2)\n",
      "Requirement already satisfied: threadpoolctl>=3.1.0 in ./.venv/lib/python3.11/site-packages (from scikit-learn) (3.5.0)\n",
      "Note: you may need to restart the kernel to use updated packages.\n"
     ]
    }
   ],
   "source": [
    "pip install scikit-learn\n"
   ]
  },
  {
   "cell_type": "code",
   "execution_count": 18,
   "metadata": {},
   "outputs": [
    {
     "name": "stdout",
     "output_type": "stream",
     "text": [
      "(538566, 18)\n",
      "(134642, 18)\n",
      "(538566,)\n",
      "(134642,)\n"
     ]
    }
   ],
   "source": [
    "# splitting the data into train and test\n",
    "from sklearn.model_selection import train_test_split\n",
    "X_train, X_test, y_train, y_test = train_test_split(X, y, test_size=0.2, random_state=42)\n",
    "\n",
    "print(X_train.shape)\n",
    "print(X_test.shape)\n",
    "print(y_train.shape)\n",
    "print(y_test.shape)"
   ]
  },
  {
   "cell_type": "code",
   "execution_count": 19,
   "metadata": {},
   "outputs": [
    {
     "data": {
      "text/html": [
       "<div>\n",
       "<style scoped>\n",
       "    .dataframe tbody tr th:only-of-type {\n",
       "        vertical-align: middle;\n",
       "    }\n",
       "\n",
       "    .dataframe tbody tr th {\n",
       "        vertical-align: top;\n",
       "    }\n",
       "\n",
       "    .dataframe thead th {\n",
       "        text-align: right;\n",
       "    }\n",
       "</style>\n",
       "<table border=\"1\" class=\"dataframe\">\n",
       "  <thead>\n",
       "    <tr style=\"text-align: right;\">\n",
       "      <th></th>\n",
       "      <th>State</th>\n",
       "      <th>Age_Group</th>\n",
       "      <th>Gender</th>\n",
       "      <th>BMI</th>\n",
       "      <th>Smoking_Status</th>\n",
       "      <th>Alcohol_Consumption</th>\n",
       "      <th>Exercise_Frequency</th>\n",
       "      <th>Hypertension</th>\n",
       "      <th>Cholesterol_Level</th>\n",
       "      <th>Family_History</th>\n",
       "      <th>Stress_Level</th>\n",
       "      <th>Diet_Type</th>\n",
       "      <th>Heart_Attack_Severity</th>\n",
       "      <th>Hospitalized</th>\n",
       "      <th>Survived</th>\n",
       "      <th>Income_Level</th>\n",
       "      <th>Urban_Rural</th>\n",
       "      <th>Employment_Status</th>\n",
       "    </tr>\n",
       "  </thead>\n",
       "  <tbody>\n",
       "    <tr>\n",
       "      <th>302761</th>\n",
       "      <td>Borno</td>\n",
       "      <td>Youth</td>\n",
       "      <td>Male</td>\n",
       "      <td>15.7</td>\n",
       "      <td>Smoker</td>\n",
       "      <td>High</td>\n",
       "      <td>Occasionally</td>\n",
       "      <td>No</td>\n",
       "      <td>Normal</td>\n",
       "      <td>No</td>\n",
       "      <td>Low</td>\n",
       "      <td>Mixed</td>\n",
       "      <td>Mild</td>\n",
       "      <td>Yes</td>\n",
       "      <td>Yes</td>\n",
       "      <td>Medium</td>\n",
       "      <td>Rural</td>\n",
       "      <td>Unemployed</td>\n",
       "    </tr>\n",
       "    <tr>\n",
       "      <th>832989</th>\n",
       "      <td>Cross River</td>\n",
       "      <td>Youth</td>\n",
       "      <td>Female</td>\n",
       "      <td>37.1</td>\n",
       "      <td>Smoker</td>\n",
       "      <td>Moderate</td>\n",
       "      <td>Daily</td>\n",
       "      <td>No</td>\n",
       "      <td>Normal</td>\n",
       "      <td>No</td>\n",
       "      <td>Moderate</td>\n",
       "      <td>Unhealthy</td>\n",
       "      <td>Severe</td>\n",
       "      <td>No</td>\n",
       "      <td>Yes</td>\n",
       "      <td>High</td>\n",
       "      <td>Urban</td>\n",
       "      <td>Unemployed</td>\n",
       "    </tr>\n",
       "    <tr>\n",
       "      <th>683471</th>\n",
       "      <td>Ondo</td>\n",
       "      <td>Adult</td>\n",
       "      <td>Male</td>\n",
       "      <td>15.9</td>\n",
       "      <td>Non-Smoker</td>\n",
       "      <td>Low</td>\n",
       "      <td>Rarely</td>\n",
       "      <td>No</td>\n",
       "      <td>Normal</td>\n",
       "      <td>No</td>\n",
       "      <td>Low</td>\n",
       "      <td>Mixed</td>\n",
       "      <td>Severe</td>\n",
       "      <td>No</td>\n",
       "      <td>Yes</td>\n",
       "      <td>Low</td>\n",
       "      <td>Urban</td>\n",
       "      <td>Unemployed</td>\n",
       "    </tr>\n",
       "    <tr>\n",
       "      <th>728545</th>\n",
       "      <td>Imo</td>\n",
       "      <td>Youth</td>\n",
       "      <td>Male</td>\n",
       "      <td>15.9</td>\n",
       "      <td>Smoker</td>\n",
       "      <td>High</td>\n",
       "      <td>Weekly</td>\n",
       "      <td>No</td>\n",
       "      <td>High</td>\n",
       "      <td>No</td>\n",
       "      <td>High</td>\n",
       "      <td>Healthy</td>\n",
       "      <td>Moderate</td>\n",
       "      <td>No</td>\n",
       "      <td>Yes</td>\n",
       "      <td>Medium</td>\n",
       "      <td>Urban</td>\n",
       "      <td>Employed</td>\n",
       "    </tr>\n",
       "    <tr>\n",
       "      <th>798563</th>\n",
       "      <td>Taraba</td>\n",
       "      <td>Youth</td>\n",
       "      <td>Male</td>\n",
       "      <td>17.8</td>\n",
       "      <td>Smoker</td>\n",
       "      <td>High</td>\n",
       "      <td>Weekly</td>\n",
       "      <td>Yes</td>\n",
       "      <td>Normal</td>\n",
       "      <td>Yes</td>\n",
       "      <td>Low</td>\n",
       "      <td>Mixed</td>\n",
       "      <td>Mild</td>\n",
       "      <td>No</td>\n",
       "      <td>No</td>\n",
       "      <td>Medium</td>\n",
       "      <td>Rural</td>\n",
       "      <td>Employed</td>\n",
       "    </tr>\n",
       "    <tr>\n",
       "      <th>...</th>\n",
       "      <td>...</td>\n",
       "      <td>...</td>\n",
       "      <td>...</td>\n",
       "      <td>...</td>\n",
       "      <td>...</td>\n",
       "      <td>...</td>\n",
       "      <td>...</td>\n",
       "      <td>...</td>\n",
       "      <td>...</td>\n",
       "      <td>...</td>\n",
       "      <td>...</td>\n",
       "      <td>...</td>\n",
       "      <td>...</td>\n",
       "      <td>...</td>\n",
       "      <td>...</td>\n",
       "      <td>...</td>\n",
       "      <td>...</td>\n",
       "      <td>...</td>\n",
       "    </tr>\n",
       "    <tr>\n",
       "      <th>346014</th>\n",
       "      <td>Zamfara</td>\n",
       "      <td>Youth</td>\n",
       "      <td>Male</td>\n",
       "      <td>39.6</td>\n",
       "      <td>Smoker</td>\n",
       "      <td>Low</td>\n",
       "      <td>Occasionally</td>\n",
       "      <td>Yes</td>\n",
       "      <td>Borderline</td>\n",
       "      <td>Yes</td>\n",
       "      <td>High</td>\n",
       "      <td>Healthy</td>\n",
       "      <td>Moderate</td>\n",
       "      <td>Yes</td>\n",
       "      <td>No</td>\n",
       "      <td>Low</td>\n",
       "      <td>Rural</td>\n",
       "      <td>Student</td>\n",
       "    </tr>\n",
       "    <tr>\n",
       "      <th>488311</th>\n",
       "      <td>Kaduna</td>\n",
       "      <td>Youth</td>\n",
       "      <td>Female</td>\n",
       "      <td>37.3</td>\n",
       "      <td>Non-Smoker</td>\n",
       "      <td>High</td>\n",
       "      <td>Daily</td>\n",
       "      <td>Yes</td>\n",
       "      <td>High</td>\n",
       "      <td>No</td>\n",
       "      <td>Low</td>\n",
       "      <td>Mixed</td>\n",
       "      <td>Mild</td>\n",
       "      <td>Yes</td>\n",
       "      <td>Yes</td>\n",
       "      <td>High</td>\n",
       "      <td>Urban</td>\n",
       "      <td>Student</td>\n",
       "    </tr>\n",
       "    <tr>\n",
       "      <th>176037</th>\n",
       "      <td>Lagos</td>\n",
       "      <td>Adult</td>\n",
       "      <td>Male</td>\n",
       "      <td>26.5</td>\n",
       "      <td>Smoker</td>\n",
       "      <td>Low</td>\n",
       "      <td>Weekly</td>\n",
       "      <td>Yes</td>\n",
       "      <td>High</td>\n",
       "      <td>Yes</td>\n",
       "      <td>Low</td>\n",
       "      <td>Unhealthy</td>\n",
       "      <td>Moderate</td>\n",
       "      <td>Yes</td>\n",
       "      <td>Yes</td>\n",
       "      <td>High</td>\n",
       "      <td>Urban</td>\n",
       "      <td>Unemployed</td>\n",
       "    </tr>\n",
       "    <tr>\n",
       "      <th>896050</th>\n",
       "      <td>Kogi</td>\n",
       "      <td>Adult</td>\n",
       "      <td>Female</td>\n",
       "      <td>31.7</td>\n",
       "      <td>Smoker</td>\n",
       "      <td>High</td>\n",
       "      <td>Daily</td>\n",
       "      <td>Yes</td>\n",
       "      <td>Borderline</td>\n",
       "      <td>Yes</td>\n",
       "      <td>Moderate</td>\n",
       "      <td>Unhealthy</td>\n",
       "      <td>Severe</td>\n",
       "      <td>Yes</td>\n",
       "      <td>Yes</td>\n",
       "      <td>Low</td>\n",
       "      <td>Urban</td>\n",
       "      <td>Student</td>\n",
       "    </tr>\n",
       "    <tr>\n",
       "      <th>162733</th>\n",
       "      <td>Sokoto</td>\n",
       "      <td>Adult</td>\n",
       "      <td>Female</td>\n",
       "      <td>25.2</td>\n",
       "      <td>Non-Smoker</td>\n",
       "      <td>High</td>\n",
       "      <td>Daily</td>\n",
       "      <td>No</td>\n",
       "      <td>High</td>\n",
       "      <td>Yes</td>\n",
       "      <td>Moderate</td>\n",
       "      <td>Mixed</td>\n",
       "      <td>Moderate</td>\n",
       "      <td>Yes</td>\n",
       "      <td>Yes</td>\n",
       "      <td>Medium</td>\n",
       "      <td>Urban</td>\n",
       "      <td>Employed</td>\n",
       "    </tr>\n",
       "  </tbody>\n",
       "</table>\n",
       "<p>538566 rows × 18 columns</p>\n",
       "</div>"
      ],
      "text/plain": [
       "              State Age_Group  Gender   BMI Smoking_Status  \\\n",
       "302761        Borno     Youth    Male  15.7         Smoker   \n",
       "832989  Cross River     Youth  Female  37.1         Smoker   \n",
       "683471         Ondo     Adult    Male  15.9     Non-Smoker   \n",
       "728545          Imo     Youth    Male  15.9         Smoker   \n",
       "798563       Taraba     Youth    Male  17.8         Smoker   \n",
       "...             ...       ...     ...   ...            ...   \n",
       "346014      Zamfara     Youth    Male  39.6         Smoker   \n",
       "488311       Kaduna     Youth  Female  37.3     Non-Smoker   \n",
       "176037        Lagos     Adult    Male  26.5         Smoker   \n",
       "896050         Kogi     Adult  Female  31.7         Smoker   \n",
       "162733       Sokoto     Adult  Female  25.2     Non-Smoker   \n",
       "\n",
       "       Alcohol_Consumption Exercise_Frequency Hypertension Cholesterol_Level  \\\n",
       "302761                High       Occasionally           No            Normal   \n",
       "832989            Moderate              Daily           No            Normal   \n",
       "683471                 Low             Rarely           No            Normal   \n",
       "728545                High             Weekly           No              High   \n",
       "798563                High             Weekly          Yes            Normal   \n",
       "...                    ...                ...          ...               ...   \n",
       "346014                 Low       Occasionally          Yes        Borderline   \n",
       "488311                High              Daily          Yes              High   \n",
       "176037                 Low             Weekly          Yes              High   \n",
       "896050                High              Daily          Yes        Borderline   \n",
       "162733                High              Daily           No              High   \n",
       "\n",
       "       Family_History Stress_Level  Diet_Type Heart_Attack_Severity  \\\n",
       "302761             No          Low      Mixed                  Mild   \n",
       "832989             No     Moderate  Unhealthy                Severe   \n",
       "683471             No          Low      Mixed                Severe   \n",
       "728545             No         High    Healthy              Moderate   \n",
       "798563            Yes          Low      Mixed                  Mild   \n",
       "...               ...          ...        ...                   ...   \n",
       "346014            Yes         High    Healthy              Moderate   \n",
       "488311             No          Low      Mixed                  Mild   \n",
       "176037            Yes          Low  Unhealthy              Moderate   \n",
       "896050            Yes     Moderate  Unhealthy                Severe   \n",
       "162733            Yes     Moderate      Mixed              Moderate   \n",
       "\n",
       "       Hospitalized Survived Income_Level Urban_Rural Employment_Status  \n",
       "302761          Yes      Yes       Medium       Rural        Unemployed  \n",
       "832989           No      Yes         High       Urban        Unemployed  \n",
       "683471           No      Yes          Low       Urban        Unemployed  \n",
       "728545           No      Yes       Medium       Urban          Employed  \n",
       "798563           No       No       Medium       Rural          Employed  \n",
       "...             ...      ...          ...         ...               ...  \n",
       "346014          Yes       No          Low       Rural           Student  \n",
       "488311          Yes      Yes         High       Urban           Student  \n",
       "176037          Yes      Yes         High       Urban        Unemployed  \n",
       "896050          Yes      Yes          Low       Urban           Student  \n",
       "162733          Yes      Yes       Medium       Urban          Employed  \n",
       "\n",
       "[538566 rows x 18 columns]"
      ]
     },
     "execution_count": 19,
     "metadata": {},
     "output_type": "execute_result"
    }
   ],
   "source": [
    "X_train"
   ]
  },
  {
   "cell_type": "code",
   "execution_count": 20,
   "metadata": {},
   "outputs": [],
   "source": [
    "# label encoding the ordinal columns in X_train and X_test\n",
    "\n",
    "from sklearn.preprocessing import LabelEncoder\n",
    "#le = LabelEncoder()\n",
    "\n",
    "for col in ord_cols:\n",
    "    le = LabelEncoder()\n",
    "    X_train[col] = le.fit_transform(X_train[col])\n",
    "    X_test[col] = le.transform(X_test[col])\n"
   ]
  },
  {
   "cell_type": "code",
   "execution_count": 21,
   "metadata": {},
   "outputs": [
    {
     "data": {
      "text/html": [
       "<div>\n",
       "<style scoped>\n",
       "    .dataframe tbody tr th:only-of-type {\n",
       "        vertical-align: middle;\n",
       "    }\n",
       "\n",
       "    .dataframe tbody tr th {\n",
       "        vertical-align: top;\n",
       "    }\n",
       "\n",
       "    .dataframe thead th {\n",
       "        text-align: right;\n",
       "    }\n",
       "</style>\n",
       "<table border=\"1\" class=\"dataframe\">\n",
       "  <thead>\n",
       "    <tr style=\"text-align: right;\">\n",
       "      <th></th>\n",
       "      <th>State</th>\n",
       "      <th>Age_Group</th>\n",
       "      <th>Gender</th>\n",
       "      <th>BMI</th>\n",
       "      <th>Smoking_Status</th>\n",
       "      <th>Alcohol_Consumption</th>\n",
       "      <th>Exercise_Frequency</th>\n",
       "      <th>Hypertension</th>\n",
       "      <th>Cholesterol_Level</th>\n",
       "      <th>Family_History</th>\n",
       "      <th>Stress_Level</th>\n",
       "      <th>Diet_Type</th>\n",
       "      <th>Heart_Attack_Severity</th>\n",
       "      <th>Hospitalized</th>\n",
       "      <th>Survived</th>\n",
       "      <th>Income_Level</th>\n",
       "      <th>Urban_Rural</th>\n",
       "      <th>Employment_Status</th>\n",
       "    </tr>\n",
       "  </thead>\n",
       "  <tbody>\n",
       "    <tr>\n",
       "      <th>302761</th>\n",
       "      <td>Borno</td>\n",
       "      <td>1</td>\n",
       "      <td>Male</td>\n",
       "      <td>15.7</td>\n",
       "      <td>Smoker</td>\n",
       "      <td>0</td>\n",
       "      <td>1</td>\n",
       "      <td>No</td>\n",
       "      <td>2</td>\n",
       "      <td>No</td>\n",
       "      <td>1</td>\n",
       "      <td>Mixed</td>\n",
       "      <td>0</td>\n",
       "      <td>Yes</td>\n",
       "      <td>Yes</td>\n",
       "      <td>2</td>\n",
       "      <td>Rural</td>\n",
       "      <td>Unemployed</td>\n",
       "    </tr>\n",
       "    <tr>\n",
       "      <th>832989</th>\n",
       "      <td>Cross River</td>\n",
       "      <td>1</td>\n",
       "      <td>Female</td>\n",
       "      <td>37.1</td>\n",
       "      <td>Smoker</td>\n",
       "      <td>2</td>\n",
       "      <td>0</td>\n",
       "      <td>No</td>\n",
       "      <td>2</td>\n",
       "      <td>No</td>\n",
       "      <td>2</td>\n",
       "      <td>Unhealthy</td>\n",
       "      <td>2</td>\n",
       "      <td>No</td>\n",
       "      <td>Yes</td>\n",
       "      <td>0</td>\n",
       "      <td>Urban</td>\n",
       "      <td>Unemployed</td>\n",
       "    </tr>\n",
       "    <tr>\n",
       "      <th>683471</th>\n",
       "      <td>Ondo</td>\n",
       "      <td>0</td>\n",
       "      <td>Male</td>\n",
       "      <td>15.9</td>\n",
       "      <td>Non-Smoker</td>\n",
       "      <td>1</td>\n",
       "      <td>2</td>\n",
       "      <td>No</td>\n",
       "      <td>2</td>\n",
       "      <td>No</td>\n",
       "      <td>1</td>\n",
       "      <td>Mixed</td>\n",
       "      <td>2</td>\n",
       "      <td>No</td>\n",
       "      <td>Yes</td>\n",
       "      <td>1</td>\n",
       "      <td>Urban</td>\n",
       "      <td>Unemployed</td>\n",
       "    </tr>\n",
       "    <tr>\n",
       "      <th>728545</th>\n",
       "      <td>Imo</td>\n",
       "      <td>1</td>\n",
       "      <td>Male</td>\n",
       "      <td>15.9</td>\n",
       "      <td>Smoker</td>\n",
       "      <td>0</td>\n",
       "      <td>3</td>\n",
       "      <td>No</td>\n",
       "      <td>1</td>\n",
       "      <td>No</td>\n",
       "      <td>0</td>\n",
       "      <td>Healthy</td>\n",
       "      <td>1</td>\n",
       "      <td>No</td>\n",
       "      <td>Yes</td>\n",
       "      <td>2</td>\n",
       "      <td>Urban</td>\n",
       "      <td>Employed</td>\n",
       "    </tr>\n",
       "    <tr>\n",
       "      <th>798563</th>\n",
       "      <td>Taraba</td>\n",
       "      <td>1</td>\n",
       "      <td>Male</td>\n",
       "      <td>17.8</td>\n",
       "      <td>Smoker</td>\n",
       "      <td>0</td>\n",
       "      <td>3</td>\n",
       "      <td>Yes</td>\n",
       "      <td>2</td>\n",
       "      <td>Yes</td>\n",
       "      <td>1</td>\n",
       "      <td>Mixed</td>\n",
       "      <td>0</td>\n",
       "      <td>No</td>\n",
       "      <td>No</td>\n",
       "      <td>2</td>\n",
       "      <td>Rural</td>\n",
       "      <td>Employed</td>\n",
       "    </tr>\n",
       "    <tr>\n",
       "      <th>...</th>\n",
       "      <td>...</td>\n",
       "      <td>...</td>\n",
       "      <td>...</td>\n",
       "      <td>...</td>\n",
       "      <td>...</td>\n",
       "      <td>...</td>\n",
       "      <td>...</td>\n",
       "      <td>...</td>\n",
       "      <td>...</td>\n",
       "      <td>...</td>\n",
       "      <td>...</td>\n",
       "      <td>...</td>\n",
       "      <td>...</td>\n",
       "      <td>...</td>\n",
       "      <td>...</td>\n",
       "      <td>...</td>\n",
       "      <td>...</td>\n",
       "      <td>...</td>\n",
       "    </tr>\n",
       "    <tr>\n",
       "      <th>346014</th>\n",
       "      <td>Zamfara</td>\n",
       "      <td>1</td>\n",
       "      <td>Male</td>\n",
       "      <td>39.6</td>\n",
       "      <td>Smoker</td>\n",
       "      <td>1</td>\n",
       "      <td>1</td>\n",
       "      <td>Yes</td>\n",
       "      <td>0</td>\n",
       "      <td>Yes</td>\n",
       "      <td>0</td>\n",
       "      <td>Healthy</td>\n",
       "      <td>1</td>\n",
       "      <td>Yes</td>\n",
       "      <td>No</td>\n",
       "      <td>1</td>\n",
       "      <td>Rural</td>\n",
       "      <td>Student</td>\n",
       "    </tr>\n",
       "    <tr>\n",
       "      <th>488311</th>\n",
       "      <td>Kaduna</td>\n",
       "      <td>1</td>\n",
       "      <td>Female</td>\n",
       "      <td>37.3</td>\n",
       "      <td>Non-Smoker</td>\n",
       "      <td>0</td>\n",
       "      <td>0</td>\n",
       "      <td>Yes</td>\n",
       "      <td>1</td>\n",
       "      <td>No</td>\n",
       "      <td>1</td>\n",
       "      <td>Mixed</td>\n",
       "      <td>0</td>\n",
       "      <td>Yes</td>\n",
       "      <td>Yes</td>\n",
       "      <td>0</td>\n",
       "      <td>Urban</td>\n",
       "      <td>Student</td>\n",
       "    </tr>\n",
       "    <tr>\n",
       "      <th>176037</th>\n",
       "      <td>Lagos</td>\n",
       "      <td>0</td>\n",
       "      <td>Male</td>\n",
       "      <td>26.5</td>\n",
       "      <td>Smoker</td>\n",
       "      <td>1</td>\n",
       "      <td>3</td>\n",
       "      <td>Yes</td>\n",
       "      <td>1</td>\n",
       "      <td>Yes</td>\n",
       "      <td>1</td>\n",
       "      <td>Unhealthy</td>\n",
       "      <td>1</td>\n",
       "      <td>Yes</td>\n",
       "      <td>Yes</td>\n",
       "      <td>0</td>\n",
       "      <td>Urban</td>\n",
       "      <td>Unemployed</td>\n",
       "    </tr>\n",
       "    <tr>\n",
       "      <th>896050</th>\n",
       "      <td>Kogi</td>\n",
       "      <td>0</td>\n",
       "      <td>Female</td>\n",
       "      <td>31.7</td>\n",
       "      <td>Smoker</td>\n",
       "      <td>0</td>\n",
       "      <td>0</td>\n",
       "      <td>Yes</td>\n",
       "      <td>0</td>\n",
       "      <td>Yes</td>\n",
       "      <td>2</td>\n",
       "      <td>Unhealthy</td>\n",
       "      <td>2</td>\n",
       "      <td>Yes</td>\n",
       "      <td>Yes</td>\n",
       "      <td>1</td>\n",
       "      <td>Urban</td>\n",
       "      <td>Student</td>\n",
       "    </tr>\n",
       "    <tr>\n",
       "      <th>162733</th>\n",
       "      <td>Sokoto</td>\n",
       "      <td>0</td>\n",
       "      <td>Female</td>\n",
       "      <td>25.2</td>\n",
       "      <td>Non-Smoker</td>\n",
       "      <td>0</td>\n",
       "      <td>0</td>\n",
       "      <td>No</td>\n",
       "      <td>1</td>\n",
       "      <td>Yes</td>\n",
       "      <td>2</td>\n",
       "      <td>Mixed</td>\n",
       "      <td>1</td>\n",
       "      <td>Yes</td>\n",
       "      <td>Yes</td>\n",
       "      <td>2</td>\n",
       "      <td>Urban</td>\n",
       "      <td>Employed</td>\n",
       "    </tr>\n",
       "  </tbody>\n",
       "</table>\n",
       "<p>538566 rows × 18 columns</p>\n",
       "</div>"
      ],
      "text/plain": [
       "              State  Age_Group  Gender   BMI Smoking_Status  \\\n",
       "302761        Borno          1    Male  15.7         Smoker   \n",
       "832989  Cross River          1  Female  37.1         Smoker   \n",
       "683471         Ondo          0    Male  15.9     Non-Smoker   \n",
       "728545          Imo          1    Male  15.9         Smoker   \n",
       "798563       Taraba          1    Male  17.8         Smoker   \n",
       "...             ...        ...     ...   ...            ...   \n",
       "346014      Zamfara          1    Male  39.6         Smoker   \n",
       "488311       Kaduna          1  Female  37.3     Non-Smoker   \n",
       "176037        Lagos          0    Male  26.5         Smoker   \n",
       "896050         Kogi          0  Female  31.7         Smoker   \n",
       "162733       Sokoto          0  Female  25.2     Non-Smoker   \n",
       "\n",
       "        Alcohol_Consumption  Exercise_Frequency Hypertension  \\\n",
       "302761                    0                   1           No   \n",
       "832989                    2                   0           No   \n",
       "683471                    1                   2           No   \n",
       "728545                    0                   3           No   \n",
       "798563                    0                   3          Yes   \n",
       "...                     ...                 ...          ...   \n",
       "346014                    1                   1          Yes   \n",
       "488311                    0                   0          Yes   \n",
       "176037                    1                   3          Yes   \n",
       "896050                    0                   0          Yes   \n",
       "162733                    0                   0           No   \n",
       "\n",
       "        Cholesterol_Level Family_History  Stress_Level  Diet_Type  \\\n",
       "302761                  2             No             1      Mixed   \n",
       "832989                  2             No             2  Unhealthy   \n",
       "683471                  2             No             1      Mixed   \n",
       "728545                  1             No             0    Healthy   \n",
       "798563                  2            Yes             1      Mixed   \n",
       "...                   ...            ...           ...        ...   \n",
       "346014                  0            Yes             0    Healthy   \n",
       "488311                  1             No             1      Mixed   \n",
       "176037                  1            Yes             1  Unhealthy   \n",
       "896050                  0            Yes             2  Unhealthy   \n",
       "162733                  1            Yes             2      Mixed   \n",
       "\n",
       "        Heart_Attack_Severity Hospitalized Survived  Income_Level Urban_Rural  \\\n",
       "302761                      0          Yes      Yes             2       Rural   \n",
       "832989                      2           No      Yes             0       Urban   \n",
       "683471                      2           No      Yes             1       Urban   \n",
       "728545                      1           No      Yes             2       Urban   \n",
       "798563                      0           No       No             2       Rural   \n",
       "...                       ...          ...      ...           ...         ...   \n",
       "346014                      1          Yes       No             1       Rural   \n",
       "488311                      0          Yes      Yes             0       Urban   \n",
       "176037                      1          Yes      Yes             0       Urban   \n",
       "896050                      2          Yes      Yes             1       Urban   \n",
       "162733                      1          Yes      Yes             2       Urban   \n",
       "\n",
       "       Employment_Status  \n",
       "302761        Unemployed  \n",
       "832989        Unemployed  \n",
       "683471        Unemployed  \n",
       "728545          Employed  \n",
       "798563          Employed  \n",
       "...                  ...  \n",
       "346014           Student  \n",
       "488311           Student  \n",
       "176037        Unemployed  \n",
       "896050           Student  \n",
       "162733          Employed  \n",
       "\n",
       "[538566 rows x 18 columns]"
      ]
     },
     "execution_count": 21,
     "metadata": {},
     "output_type": "execute_result"
    }
   ],
   "source": [
    "X_train\n"
   ]
  },
  {
   "cell_type": "markdown",
   "metadata": {},
   "source": [
    "### One Hot encoding"
   ]
  },
  {
   "cell_type": "code",
   "execution_count": 22,
   "metadata": {},
   "outputs": [],
   "source": [
    "# nom_cols"
   ]
  },
  {
   "cell_type": "code",
   "execution_count": 23,
   "metadata": {},
   "outputs": [],
   "source": [
    "# # one hot encoding the nominal columns\n",
    "\n",
    "# from sklearn.preprocessing import OneHotEncoder\n",
    "\n",
    "# # initialising the encoder\n",
    "# ohe_state = OneHotEncoder()\n",
    "\n",
    "# # fitting the encoder\n",
    "# state_encoder = ohe_state.fit_transform(X_train[[\"State\"]])\n",
    "# state_encoder\n",
    "\n",
    "\n"
   ]
  },
  {
   "cell_type": "markdown",
   "metadata": {},
   "source": [
    "- Here, we get a sparse matrix with 37 columns and 538566 rows\n",
    "- 37 columns are the unique states in Nigeria\n",
    "- 538566 rows are the data points in X_train"
   ]
  },
  {
   "cell_type": "code",
   "execution_count": 24,
   "metadata": {},
   "outputs": [],
   "source": [
    "# # converting sparse matrix to an array\n",
    "# state_encoder = state_encoder.toarray()\n",
    "# state_encoder"
   ]
  },
  {
   "cell_type": "markdown",
   "metadata": {},
   "source": [
    "- we have converted the sparse matrix in to an array because we want to build a dataframe from this encoded data"
   ]
  },
  {
   "cell_type": "code",
   "execution_count": 25,
   "metadata": {},
   "outputs": [],
   "source": [
    "# # getting the feature names\n",
    "# ohe_state.get_feature_names_out([\"State\"])"
   ]
  },
  {
   "cell_type": "code",
   "execution_count": 26,
   "metadata": {},
   "outputs": [],
   "source": [
    "# # building a encoded dataframe\n",
    "# state_encoder_df = pd.DataFrame(state_encoder, columns=ohe_state.get_feature_names_out([\"State\"]))\n",
    "# state_encoder_df"
   ]
  },
  {
   "cell_type": "code",
   "execution_count": 27,
   "metadata": {},
   "outputs": [],
   "source": [
    "# # concatenating the state encoded dataframe with X_train while dropping the state column\n",
    "# X_train = pd.concat([X_train.drop(\"State\", axis = 1), state_encoder_df], axis = 0)\n",
    "# X_train\n"
   ]
  },
  {
   "cell_type": "code",
   "execution_count": 28,
   "metadata": {},
   "outputs": [
    {
     "data": {
      "text/plain": [
       "(538566, 55)"
      ]
     },
     "execution_count": 28,
     "metadata": {},
     "output_type": "execute_result"
    }
   ],
   "source": [
    "X_train = pd.get_dummies(X_train, columns=nom_cols, drop_first=True, dtype=int)\n",
    "X_train.shape"
   ]
  },
  {
   "cell_type": "code",
   "execution_count": 29,
   "metadata": {},
   "outputs": [
    {
     "data": {
      "text/plain": [
       "(134642, 55)"
      ]
     },
     "execution_count": 29,
     "metadata": {},
     "output_type": "execute_result"
    }
   ],
   "source": [
    "X_test = pd.get_dummies(X_test, columns=nom_cols, drop_first=True, dtype=int)\n",
    "X_test.shape"
   ]
  },
  {
   "cell_type": "code",
   "execution_count": 30,
   "metadata": {},
   "outputs": [
    {
     "data": {
      "text/html": [
       "<div>\n",
       "<style scoped>\n",
       "    .dataframe tbody tr th:only-of-type {\n",
       "        vertical-align: middle;\n",
       "    }\n",
       "\n",
       "    .dataframe tbody tr th {\n",
       "        vertical-align: top;\n",
       "    }\n",
       "\n",
       "    .dataframe thead th {\n",
       "        text-align: right;\n",
       "    }\n",
       "</style>\n",
       "<table border=\"1\" class=\"dataframe\">\n",
       "  <thead>\n",
       "    <tr style=\"text-align: right;\">\n",
       "      <th></th>\n",
       "      <th>Age_Group</th>\n",
       "      <th>BMI</th>\n",
       "      <th>Alcohol_Consumption</th>\n",
       "      <th>Exercise_Frequency</th>\n",
       "      <th>Cholesterol_Level</th>\n",
       "      <th>Stress_Level</th>\n",
       "      <th>Heart_Attack_Severity</th>\n",
       "      <th>Income_Level</th>\n",
       "      <th>State_Adamawa</th>\n",
       "      <th>State_Akwa Ibom</th>\n",
       "      <th>State_Anambra</th>\n",
       "      <th>State_Bauchi</th>\n",
       "      <th>State_Bayelsa</th>\n",
       "      <th>State_Benue</th>\n",
       "      <th>State_Borno</th>\n",
       "      <th>State_Cross River</th>\n",
       "      <th>State_Delta</th>\n",
       "      <th>State_Ebonyi</th>\n",
       "      <th>State_Edo</th>\n",
       "      <th>State_Ekiti</th>\n",
       "      <th>State_Enugu</th>\n",
       "      <th>State_FCT</th>\n",
       "      <th>State_Gombe</th>\n",
       "      <th>State_Imo</th>\n",
       "      <th>State_Jigawa</th>\n",
       "      <th>State_Kaduna</th>\n",
       "      <th>State_Kano</th>\n",
       "      <th>State_Katsina</th>\n",
       "      <th>State_Kebbi</th>\n",
       "      <th>State_Kogi</th>\n",
       "      <th>State_Kwara</th>\n",
       "      <th>State_Lagos</th>\n",
       "      <th>State_Nasarawa</th>\n",
       "      <th>State_Niger</th>\n",
       "      <th>State_Ogun</th>\n",
       "      <th>State_Ondo</th>\n",
       "      <th>State_Osun</th>\n",
       "      <th>State_Oyo</th>\n",
       "      <th>State_Plateau</th>\n",
       "      <th>State_Rivers</th>\n",
       "      <th>State_Sokoto</th>\n",
       "      <th>State_Taraba</th>\n",
       "      <th>State_Yobe</th>\n",
       "      <th>State_Zamfara</th>\n",
       "      <th>Gender_Male</th>\n",
       "      <th>Smoking_Status_Smoker</th>\n",
       "      <th>Hypertension_Yes</th>\n",
       "      <th>Family_History_Yes</th>\n",
       "      <th>Diet_Type_Mixed</th>\n",
       "      <th>Diet_Type_Unhealthy</th>\n",
       "      <th>Hospitalized_Yes</th>\n",
       "      <th>Survived_Yes</th>\n",
       "      <th>Urban_Rural_Urban</th>\n",
       "      <th>Employment_Status_Student</th>\n",
       "      <th>Employment_Status_Unemployed</th>\n",
       "    </tr>\n",
       "  </thead>\n",
       "  <tbody>\n",
       "    <tr>\n",
       "      <th>302761</th>\n",
       "      <td>1</td>\n",
       "      <td>15.7</td>\n",
       "      <td>0</td>\n",
       "      <td>1</td>\n",
       "      <td>2</td>\n",
       "      <td>1</td>\n",
       "      <td>0</td>\n",
       "      <td>2</td>\n",
       "      <td>0</td>\n",
       "      <td>0</td>\n",
       "      <td>0</td>\n",
       "      <td>0</td>\n",
       "      <td>0</td>\n",
       "      <td>0</td>\n",
       "      <td>1</td>\n",
       "      <td>0</td>\n",
       "      <td>0</td>\n",
       "      <td>0</td>\n",
       "      <td>0</td>\n",
       "      <td>0</td>\n",
       "      <td>0</td>\n",
       "      <td>0</td>\n",
       "      <td>0</td>\n",
       "      <td>0</td>\n",
       "      <td>0</td>\n",
       "      <td>0</td>\n",
       "      <td>0</td>\n",
       "      <td>0</td>\n",
       "      <td>0</td>\n",
       "      <td>0</td>\n",
       "      <td>0</td>\n",
       "      <td>0</td>\n",
       "      <td>0</td>\n",
       "      <td>0</td>\n",
       "      <td>0</td>\n",
       "      <td>0</td>\n",
       "      <td>0</td>\n",
       "      <td>0</td>\n",
       "      <td>0</td>\n",
       "      <td>0</td>\n",
       "      <td>0</td>\n",
       "      <td>0</td>\n",
       "      <td>0</td>\n",
       "      <td>0</td>\n",
       "      <td>1</td>\n",
       "      <td>1</td>\n",
       "      <td>0</td>\n",
       "      <td>0</td>\n",
       "      <td>1</td>\n",
       "      <td>0</td>\n",
       "      <td>1</td>\n",
       "      <td>1</td>\n",
       "      <td>0</td>\n",
       "      <td>0</td>\n",
       "      <td>1</td>\n",
       "    </tr>\n",
       "    <tr>\n",
       "      <th>832989</th>\n",
       "      <td>1</td>\n",
       "      <td>37.1</td>\n",
       "      <td>2</td>\n",
       "      <td>0</td>\n",
       "      <td>2</td>\n",
       "      <td>2</td>\n",
       "      <td>2</td>\n",
       "      <td>0</td>\n",
       "      <td>0</td>\n",
       "      <td>0</td>\n",
       "      <td>0</td>\n",
       "      <td>0</td>\n",
       "      <td>0</td>\n",
       "      <td>0</td>\n",
       "      <td>0</td>\n",
       "      <td>1</td>\n",
       "      <td>0</td>\n",
       "      <td>0</td>\n",
       "      <td>0</td>\n",
       "      <td>0</td>\n",
       "      <td>0</td>\n",
       "      <td>0</td>\n",
       "      <td>0</td>\n",
       "      <td>0</td>\n",
       "      <td>0</td>\n",
       "      <td>0</td>\n",
       "      <td>0</td>\n",
       "      <td>0</td>\n",
       "      <td>0</td>\n",
       "      <td>0</td>\n",
       "      <td>0</td>\n",
       "      <td>0</td>\n",
       "      <td>0</td>\n",
       "      <td>0</td>\n",
       "      <td>0</td>\n",
       "      <td>0</td>\n",
       "      <td>0</td>\n",
       "      <td>0</td>\n",
       "      <td>0</td>\n",
       "      <td>0</td>\n",
       "      <td>0</td>\n",
       "      <td>0</td>\n",
       "      <td>0</td>\n",
       "      <td>0</td>\n",
       "      <td>0</td>\n",
       "      <td>1</td>\n",
       "      <td>0</td>\n",
       "      <td>0</td>\n",
       "      <td>0</td>\n",
       "      <td>1</td>\n",
       "      <td>0</td>\n",
       "      <td>1</td>\n",
       "      <td>1</td>\n",
       "      <td>0</td>\n",
       "      <td>1</td>\n",
       "    </tr>\n",
       "    <tr>\n",
       "      <th>683471</th>\n",
       "      <td>0</td>\n",
       "      <td>15.9</td>\n",
       "      <td>1</td>\n",
       "      <td>2</td>\n",
       "      <td>2</td>\n",
       "      <td>1</td>\n",
       "      <td>2</td>\n",
       "      <td>1</td>\n",
       "      <td>0</td>\n",
       "      <td>0</td>\n",
       "      <td>0</td>\n",
       "      <td>0</td>\n",
       "      <td>0</td>\n",
       "      <td>0</td>\n",
       "      <td>0</td>\n",
       "      <td>0</td>\n",
       "      <td>0</td>\n",
       "      <td>0</td>\n",
       "      <td>0</td>\n",
       "      <td>0</td>\n",
       "      <td>0</td>\n",
       "      <td>0</td>\n",
       "      <td>0</td>\n",
       "      <td>0</td>\n",
       "      <td>0</td>\n",
       "      <td>0</td>\n",
       "      <td>0</td>\n",
       "      <td>0</td>\n",
       "      <td>0</td>\n",
       "      <td>0</td>\n",
       "      <td>0</td>\n",
       "      <td>0</td>\n",
       "      <td>0</td>\n",
       "      <td>0</td>\n",
       "      <td>0</td>\n",
       "      <td>1</td>\n",
       "      <td>0</td>\n",
       "      <td>0</td>\n",
       "      <td>0</td>\n",
       "      <td>0</td>\n",
       "      <td>0</td>\n",
       "      <td>0</td>\n",
       "      <td>0</td>\n",
       "      <td>0</td>\n",
       "      <td>1</td>\n",
       "      <td>0</td>\n",
       "      <td>0</td>\n",
       "      <td>0</td>\n",
       "      <td>1</td>\n",
       "      <td>0</td>\n",
       "      <td>0</td>\n",
       "      <td>1</td>\n",
       "      <td>1</td>\n",
       "      <td>0</td>\n",
       "      <td>1</td>\n",
       "    </tr>\n",
       "    <tr>\n",
       "      <th>728545</th>\n",
       "      <td>1</td>\n",
       "      <td>15.9</td>\n",
       "      <td>0</td>\n",
       "      <td>3</td>\n",
       "      <td>1</td>\n",
       "      <td>0</td>\n",
       "      <td>1</td>\n",
       "      <td>2</td>\n",
       "      <td>0</td>\n",
       "      <td>0</td>\n",
       "      <td>0</td>\n",
       "      <td>0</td>\n",
       "      <td>0</td>\n",
       "      <td>0</td>\n",
       "      <td>0</td>\n",
       "      <td>0</td>\n",
       "      <td>0</td>\n",
       "      <td>0</td>\n",
       "      <td>0</td>\n",
       "      <td>0</td>\n",
       "      <td>0</td>\n",
       "      <td>0</td>\n",
       "      <td>0</td>\n",
       "      <td>1</td>\n",
       "      <td>0</td>\n",
       "      <td>0</td>\n",
       "      <td>0</td>\n",
       "      <td>0</td>\n",
       "      <td>0</td>\n",
       "      <td>0</td>\n",
       "      <td>0</td>\n",
       "      <td>0</td>\n",
       "      <td>0</td>\n",
       "      <td>0</td>\n",
       "      <td>0</td>\n",
       "      <td>0</td>\n",
       "      <td>0</td>\n",
       "      <td>0</td>\n",
       "      <td>0</td>\n",
       "      <td>0</td>\n",
       "      <td>0</td>\n",
       "      <td>0</td>\n",
       "      <td>0</td>\n",
       "      <td>0</td>\n",
       "      <td>1</td>\n",
       "      <td>1</td>\n",
       "      <td>0</td>\n",
       "      <td>0</td>\n",
       "      <td>0</td>\n",
       "      <td>0</td>\n",
       "      <td>0</td>\n",
       "      <td>1</td>\n",
       "      <td>1</td>\n",
       "      <td>0</td>\n",
       "      <td>0</td>\n",
       "    </tr>\n",
       "    <tr>\n",
       "      <th>798563</th>\n",
       "      <td>1</td>\n",
       "      <td>17.8</td>\n",
       "      <td>0</td>\n",
       "      <td>3</td>\n",
       "      <td>2</td>\n",
       "      <td>1</td>\n",
       "      <td>0</td>\n",
       "      <td>2</td>\n",
       "      <td>0</td>\n",
       "      <td>0</td>\n",
       "      <td>0</td>\n",
       "      <td>0</td>\n",
       "      <td>0</td>\n",
       "      <td>0</td>\n",
       "      <td>0</td>\n",
       "      <td>0</td>\n",
       "      <td>0</td>\n",
       "      <td>0</td>\n",
       "      <td>0</td>\n",
       "      <td>0</td>\n",
       "      <td>0</td>\n",
       "      <td>0</td>\n",
       "      <td>0</td>\n",
       "      <td>0</td>\n",
       "      <td>0</td>\n",
       "      <td>0</td>\n",
       "      <td>0</td>\n",
       "      <td>0</td>\n",
       "      <td>0</td>\n",
       "      <td>0</td>\n",
       "      <td>0</td>\n",
       "      <td>0</td>\n",
       "      <td>0</td>\n",
       "      <td>0</td>\n",
       "      <td>0</td>\n",
       "      <td>0</td>\n",
       "      <td>0</td>\n",
       "      <td>0</td>\n",
       "      <td>0</td>\n",
       "      <td>0</td>\n",
       "      <td>0</td>\n",
       "      <td>1</td>\n",
       "      <td>0</td>\n",
       "      <td>0</td>\n",
       "      <td>1</td>\n",
       "      <td>1</td>\n",
       "      <td>1</td>\n",
       "      <td>1</td>\n",
       "      <td>1</td>\n",
       "      <td>0</td>\n",
       "      <td>0</td>\n",
       "      <td>0</td>\n",
       "      <td>0</td>\n",
       "      <td>0</td>\n",
       "      <td>0</td>\n",
       "    </tr>\n",
       "    <tr>\n",
       "      <th>...</th>\n",
       "      <td>...</td>\n",
       "      <td>...</td>\n",
       "      <td>...</td>\n",
       "      <td>...</td>\n",
       "      <td>...</td>\n",
       "      <td>...</td>\n",
       "      <td>...</td>\n",
       "      <td>...</td>\n",
       "      <td>...</td>\n",
       "      <td>...</td>\n",
       "      <td>...</td>\n",
       "      <td>...</td>\n",
       "      <td>...</td>\n",
       "      <td>...</td>\n",
       "      <td>...</td>\n",
       "      <td>...</td>\n",
       "      <td>...</td>\n",
       "      <td>...</td>\n",
       "      <td>...</td>\n",
       "      <td>...</td>\n",
       "      <td>...</td>\n",
       "      <td>...</td>\n",
       "      <td>...</td>\n",
       "      <td>...</td>\n",
       "      <td>...</td>\n",
       "      <td>...</td>\n",
       "      <td>...</td>\n",
       "      <td>...</td>\n",
       "      <td>...</td>\n",
       "      <td>...</td>\n",
       "      <td>...</td>\n",
       "      <td>...</td>\n",
       "      <td>...</td>\n",
       "      <td>...</td>\n",
       "      <td>...</td>\n",
       "      <td>...</td>\n",
       "      <td>...</td>\n",
       "      <td>...</td>\n",
       "      <td>...</td>\n",
       "      <td>...</td>\n",
       "      <td>...</td>\n",
       "      <td>...</td>\n",
       "      <td>...</td>\n",
       "      <td>...</td>\n",
       "      <td>...</td>\n",
       "      <td>...</td>\n",
       "      <td>...</td>\n",
       "      <td>...</td>\n",
       "      <td>...</td>\n",
       "      <td>...</td>\n",
       "      <td>...</td>\n",
       "      <td>...</td>\n",
       "      <td>...</td>\n",
       "      <td>...</td>\n",
       "      <td>...</td>\n",
       "    </tr>\n",
       "    <tr>\n",
       "      <th>346014</th>\n",
       "      <td>1</td>\n",
       "      <td>39.6</td>\n",
       "      <td>1</td>\n",
       "      <td>1</td>\n",
       "      <td>0</td>\n",
       "      <td>0</td>\n",
       "      <td>1</td>\n",
       "      <td>1</td>\n",
       "      <td>0</td>\n",
       "      <td>0</td>\n",
       "      <td>0</td>\n",
       "      <td>0</td>\n",
       "      <td>0</td>\n",
       "      <td>0</td>\n",
       "      <td>0</td>\n",
       "      <td>0</td>\n",
       "      <td>0</td>\n",
       "      <td>0</td>\n",
       "      <td>0</td>\n",
       "      <td>0</td>\n",
       "      <td>0</td>\n",
       "      <td>0</td>\n",
       "      <td>0</td>\n",
       "      <td>0</td>\n",
       "      <td>0</td>\n",
       "      <td>0</td>\n",
       "      <td>0</td>\n",
       "      <td>0</td>\n",
       "      <td>0</td>\n",
       "      <td>0</td>\n",
       "      <td>0</td>\n",
       "      <td>0</td>\n",
       "      <td>0</td>\n",
       "      <td>0</td>\n",
       "      <td>0</td>\n",
       "      <td>0</td>\n",
       "      <td>0</td>\n",
       "      <td>0</td>\n",
       "      <td>0</td>\n",
       "      <td>0</td>\n",
       "      <td>0</td>\n",
       "      <td>0</td>\n",
       "      <td>0</td>\n",
       "      <td>1</td>\n",
       "      <td>1</td>\n",
       "      <td>1</td>\n",
       "      <td>1</td>\n",
       "      <td>1</td>\n",
       "      <td>0</td>\n",
       "      <td>0</td>\n",
       "      <td>1</td>\n",
       "      <td>0</td>\n",
       "      <td>0</td>\n",
       "      <td>1</td>\n",
       "      <td>0</td>\n",
       "    </tr>\n",
       "    <tr>\n",
       "      <th>488311</th>\n",
       "      <td>1</td>\n",
       "      <td>37.3</td>\n",
       "      <td>0</td>\n",
       "      <td>0</td>\n",
       "      <td>1</td>\n",
       "      <td>1</td>\n",
       "      <td>0</td>\n",
       "      <td>0</td>\n",
       "      <td>0</td>\n",
       "      <td>0</td>\n",
       "      <td>0</td>\n",
       "      <td>0</td>\n",
       "      <td>0</td>\n",
       "      <td>0</td>\n",
       "      <td>0</td>\n",
       "      <td>0</td>\n",
       "      <td>0</td>\n",
       "      <td>0</td>\n",
       "      <td>0</td>\n",
       "      <td>0</td>\n",
       "      <td>0</td>\n",
       "      <td>0</td>\n",
       "      <td>0</td>\n",
       "      <td>0</td>\n",
       "      <td>0</td>\n",
       "      <td>1</td>\n",
       "      <td>0</td>\n",
       "      <td>0</td>\n",
       "      <td>0</td>\n",
       "      <td>0</td>\n",
       "      <td>0</td>\n",
       "      <td>0</td>\n",
       "      <td>0</td>\n",
       "      <td>0</td>\n",
       "      <td>0</td>\n",
       "      <td>0</td>\n",
       "      <td>0</td>\n",
       "      <td>0</td>\n",
       "      <td>0</td>\n",
       "      <td>0</td>\n",
       "      <td>0</td>\n",
       "      <td>0</td>\n",
       "      <td>0</td>\n",
       "      <td>0</td>\n",
       "      <td>0</td>\n",
       "      <td>0</td>\n",
       "      <td>1</td>\n",
       "      <td>0</td>\n",
       "      <td>1</td>\n",
       "      <td>0</td>\n",
       "      <td>1</td>\n",
       "      <td>1</td>\n",
       "      <td>1</td>\n",
       "      <td>1</td>\n",
       "      <td>0</td>\n",
       "    </tr>\n",
       "    <tr>\n",
       "      <th>176037</th>\n",
       "      <td>0</td>\n",
       "      <td>26.5</td>\n",
       "      <td>1</td>\n",
       "      <td>3</td>\n",
       "      <td>1</td>\n",
       "      <td>1</td>\n",
       "      <td>1</td>\n",
       "      <td>0</td>\n",
       "      <td>0</td>\n",
       "      <td>0</td>\n",
       "      <td>0</td>\n",
       "      <td>0</td>\n",
       "      <td>0</td>\n",
       "      <td>0</td>\n",
       "      <td>0</td>\n",
       "      <td>0</td>\n",
       "      <td>0</td>\n",
       "      <td>0</td>\n",
       "      <td>0</td>\n",
       "      <td>0</td>\n",
       "      <td>0</td>\n",
       "      <td>0</td>\n",
       "      <td>0</td>\n",
       "      <td>0</td>\n",
       "      <td>0</td>\n",
       "      <td>0</td>\n",
       "      <td>0</td>\n",
       "      <td>0</td>\n",
       "      <td>0</td>\n",
       "      <td>0</td>\n",
       "      <td>0</td>\n",
       "      <td>1</td>\n",
       "      <td>0</td>\n",
       "      <td>0</td>\n",
       "      <td>0</td>\n",
       "      <td>0</td>\n",
       "      <td>0</td>\n",
       "      <td>0</td>\n",
       "      <td>0</td>\n",
       "      <td>0</td>\n",
       "      <td>0</td>\n",
       "      <td>0</td>\n",
       "      <td>0</td>\n",
       "      <td>0</td>\n",
       "      <td>1</td>\n",
       "      <td>1</td>\n",
       "      <td>1</td>\n",
       "      <td>1</td>\n",
       "      <td>0</td>\n",
       "      <td>1</td>\n",
       "      <td>1</td>\n",
       "      <td>1</td>\n",
       "      <td>1</td>\n",
       "      <td>0</td>\n",
       "      <td>1</td>\n",
       "    </tr>\n",
       "    <tr>\n",
       "      <th>896050</th>\n",
       "      <td>0</td>\n",
       "      <td>31.7</td>\n",
       "      <td>0</td>\n",
       "      <td>0</td>\n",
       "      <td>0</td>\n",
       "      <td>2</td>\n",
       "      <td>2</td>\n",
       "      <td>1</td>\n",
       "      <td>0</td>\n",
       "      <td>0</td>\n",
       "      <td>0</td>\n",
       "      <td>0</td>\n",
       "      <td>0</td>\n",
       "      <td>0</td>\n",
       "      <td>0</td>\n",
       "      <td>0</td>\n",
       "      <td>0</td>\n",
       "      <td>0</td>\n",
       "      <td>0</td>\n",
       "      <td>0</td>\n",
       "      <td>0</td>\n",
       "      <td>0</td>\n",
       "      <td>0</td>\n",
       "      <td>0</td>\n",
       "      <td>0</td>\n",
       "      <td>0</td>\n",
       "      <td>0</td>\n",
       "      <td>0</td>\n",
       "      <td>0</td>\n",
       "      <td>1</td>\n",
       "      <td>0</td>\n",
       "      <td>0</td>\n",
       "      <td>0</td>\n",
       "      <td>0</td>\n",
       "      <td>0</td>\n",
       "      <td>0</td>\n",
       "      <td>0</td>\n",
       "      <td>0</td>\n",
       "      <td>0</td>\n",
       "      <td>0</td>\n",
       "      <td>0</td>\n",
       "      <td>0</td>\n",
       "      <td>0</td>\n",
       "      <td>0</td>\n",
       "      <td>0</td>\n",
       "      <td>1</td>\n",
       "      <td>1</td>\n",
       "      <td>1</td>\n",
       "      <td>0</td>\n",
       "      <td>1</td>\n",
       "      <td>1</td>\n",
       "      <td>1</td>\n",
       "      <td>1</td>\n",
       "      <td>1</td>\n",
       "      <td>0</td>\n",
       "    </tr>\n",
       "    <tr>\n",
       "      <th>162733</th>\n",
       "      <td>0</td>\n",
       "      <td>25.2</td>\n",
       "      <td>0</td>\n",
       "      <td>0</td>\n",
       "      <td>1</td>\n",
       "      <td>2</td>\n",
       "      <td>1</td>\n",
       "      <td>2</td>\n",
       "      <td>0</td>\n",
       "      <td>0</td>\n",
       "      <td>0</td>\n",
       "      <td>0</td>\n",
       "      <td>0</td>\n",
       "      <td>0</td>\n",
       "      <td>0</td>\n",
       "      <td>0</td>\n",
       "      <td>0</td>\n",
       "      <td>0</td>\n",
       "      <td>0</td>\n",
       "      <td>0</td>\n",
       "      <td>0</td>\n",
       "      <td>0</td>\n",
       "      <td>0</td>\n",
       "      <td>0</td>\n",
       "      <td>0</td>\n",
       "      <td>0</td>\n",
       "      <td>0</td>\n",
       "      <td>0</td>\n",
       "      <td>0</td>\n",
       "      <td>0</td>\n",
       "      <td>0</td>\n",
       "      <td>0</td>\n",
       "      <td>0</td>\n",
       "      <td>0</td>\n",
       "      <td>0</td>\n",
       "      <td>0</td>\n",
       "      <td>0</td>\n",
       "      <td>0</td>\n",
       "      <td>0</td>\n",
       "      <td>0</td>\n",
       "      <td>1</td>\n",
       "      <td>0</td>\n",
       "      <td>0</td>\n",
       "      <td>0</td>\n",
       "      <td>0</td>\n",
       "      <td>0</td>\n",
       "      <td>0</td>\n",
       "      <td>1</td>\n",
       "      <td>1</td>\n",
       "      <td>0</td>\n",
       "      <td>1</td>\n",
       "      <td>1</td>\n",
       "      <td>1</td>\n",
       "      <td>0</td>\n",
       "      <td>0</td>\n",
       "    </tr>\n",
       "  </tbody>\n",
       "</table>\n",
       "<p>538566 rows × 55 columns</p>\n",
       "</div>"
      ],
      "text/plain": [
       "        Age_Group   BMI  Alcohol_Consumption  Exercise_Frequency  \\\n",
       "302761          1  15.7                    0                   1   \n",
       "832989          1  37.1                    2                   0   \n",
       "683471          0  15.9                    1                   2   \n",
       "728545          1  15.9                    0                   3   \n",
       "798563          1  17.8                    0                   3   \n",
       "...           ...   ...                  ...                 ...   \n",
       "346014          1  39.6                    1                   1   \n",
       "488311          1  37.3                    0                   0   \n",
       "176037          0  26.5                    1                   3   \n",
       "896050          0  31.7                    0                   0   \n",
       "162733          0  25.2                    0                   0   \n",
       "\n",
       "        Cholesterol_Level  Stress_Level  Heart_Attack_Severity  Income_Level  \\\n",
       "302761                  2             1                      0             2   \n",
       "832989                  2             2                      2             0   \n",
       "683471                  2             1                      2             1   \n",
       "728545                  1             0                      1             2   \n",
       "798563                  2             1                      0             2   \n",
       "...                   ...           ...                    ...           ...   \n",
       "346014                  0             0                      1             1   \n",
       "488311                  1             1                      0             0   \n",
       "176037                  1             1                      1             0   \n",
       "896050                  0             2                      2             1   \n",
       "162733                  1             2                      1             2   \n",
       "\n",
       "        State_Adamawa  State_Akwa Ibom  State_Anambra  State_Bauchi  \\\n",
       "302761              0                0              0             0   \n",
       "832989              0                0              0             0   \n",
       "683471              0                0              0             0   \n",
       "728545              0                0              0             0   \n",
       "798563              0                0              0             0   \n",
       "...               ...              ...            ...           ...   \n",
       "346014              0                0              0             0   \n",
       "488311              0                0              0             0   \n",
       "176037              0                0              0             0   \n",
       "896050              0                0              0             0   \n",
       "162733              0                0              0             0   \n",
       "\n",
       "        State_Bayelsa  State_Benue  State_Borno  State_Cross River  \\\n",
       "302761              0            0            1                  0   \n",
       "832989              0            0            0                  1   \n",
       "683471              0            0            0                  0   \n",
       "728545              0            0            0                  0   \n",
       "798563              0            0            0                  0   \n",
       "...               ...          ...          ...                ...   \n",
       "346014              0            0            0                  0   \n",
       "488311              0            0            0                  0   \n",
       "176037              0            0            0                  0   \n",
       "896050              0            0            0                  0   \n",
       "162733              0            0            0                  0   \n",
       "\n",
       "        State_Delta  State_Ebonyi  State_Edo  State_Ekiti  State_Enugu  \\\n",
       "302761            0             0          0            0            0   \n",
       "832989            0             0          0            0            0   \n",
       "683471            0             0          0            0            0   \n",
       "728545            0             0          0            0            0   \n",
       "798563            0             0          0            0            0   \n",
       "...             ...           ...        ...          ...          ...   \n",
       "346014            0             0          0            0            0   \n",
       "488311            0             0          0            0            0   \n",
       "176037            0             0          0            0            0   \n",
       "896050            0             0          0            0            0   \n",
       "162733            0             0          0            0            0   \n",
       "\n",
       "        State_FCT  State_Gombe  State_Imo  State_Jigawa  State_Kaduna  \\\n",
       "302761          0            0          0             0             0   \n",
       "832989          0            0          0             0             0   \n",
       "683471          0            0          0             0             0   \n",
       "728545          0            0          1             0             0   \n",
       "798563          0            0          0             0             0   \n",
       "...           ...          ...        ...           ...           ...   \n",
       "346014          0            0          0             0             0   \n",
       "488311          0            0          0             0             1   \n",
       "176037          0            0          0             0             0   \n",
       "896050          0            0          0             0             0   \n",
       "162733          0            0          0             0             0   \n",
       "\n",
       "        State_Kano  State_Katsina  State_Kebbi  State_Kogi  State_Kwara  \\\n",
       "302761           0              0            0           0            0   \n",
       "832989           0              0            0           0            0   \n",
       "683471           0              0            0           0            0   \n",
       "728545           0              0            0           0            0   \n",
       "798563           0              0            0           0            0   \n",
       "...            ...            ...          ...         ...          ...   \n",
       "346014           0              0            0           0            0   \n",
       "488311           0              0            0           0            0   \n",
       "176037           0              0            0           0            0   \n",
       "896050           0              0            0           1            0   \n",
       "162733           0              0            0           0            0   \n",
       "\n",
       "        State_Lagos  State_Nasarawa  State_Niger  State_Ogun  State_Ondo  \\\n",
       "302761            0               0            0           0           0   \n",
       "832989            0               0            0           0           0   \n",
       "683471            0               0            0           0           1   \n",
       "728545            0               0            0           0           0   \n",
       "798563            0               0            0           0           0   \n",
       "...             ...             ...          ...         ...         ...   \n",
       "346014            0               0            0           0           0   \n",
       "488311            0               0            0           0           0   \n",
       "176037            1               0            0           0           0   \n",
       "896050            0               0            0           0           0   \n",
       "162733            0               0            0           0           0   \n",
       "\n",
       "        State_Osun  State_Oyo  State_Plateau  State_Rivers  State_Sokoto  \\\n",
       "302761           0          0              0             0             0   \n",
       "832989           0          0              0             0             0   \n",
       "683471           0          0              0             0             0   \n",
       "728545           0          0              0             0             0   \n",
       "798563           0          0              0             0             0   \n",
       "...            ...        ...            ...           ...           ...   \n",
       "346014           0          0              0             0             0   \n",
       "488311           0          0              0             0             0   \n",
       "176037           0          0              0             0             0   \n",
       "896050           0          0              0             0             0   \n",
       "162733           0          0              0             0             1   \n",
       "\n",
       "        State_Taraba  State_Yobe  State_Zamfara  Gender_Male  \\\n",
       "302761             0           0              0            1   \n",
       "832989             0           0              0            0   \n",
       "683471             0           0              0            1   \n",
       "728545             0           0              0            1   \n",
       "798563             1           0              0            1   \n",
       "...              ...         ...            ...          ...   \n",
       "346014             0           0              1            1   \n",
       "488311             0           0              0            0   \n",
       "176037             0           0              0            1   \n",
       "896050             0           0              0            0   \n",
       "162733             0           0              0            0   \n",
       "\n",
       "        Smoking_Status_Smoker  Hypertension_Yes  Family_History_Yes  \\\n",
       "302761                      1                 0                   0   \n",
       "832989                      1                 0                   0   \n",
       "683471                      0                 0                   0   \n",
       "728545                      1                 0                   0   \n",
       "798563                      1                 1                   1   \n",
       "...                       ...               ...                 ...   \n",
       "346014                      1                 1                   1   \n",
       "488311                      0                 1                   0   \n",
       "176037                      1                 1                   1   \n",
       "896050                      1                 1                   1   \n",
       "162733                      0                 0                   1   \n",
       "\n",
       "        Diet_Type_Mixed  Diet_Type_Unhealthy  Hospitalized_Yes  Survived_Yes  \\\n",
       "302761                1                    0                 1             1   \n",
       "832989                0                    1                 0             1   \n",
       "683471                1                    0                 0             1   \n",
       "728545                0                    0                 0             1   \n",
       "798563                1                    0                 0             0   \n",
       "...                 ...                  ...               ...           ...   \n",
       "346014                0                    0                 1             0   \n",
       "488311                1                    0                 1             1   \n",
       "176037                0                    1                 1             1   \n",
       "896050                0                    1                 1             1   \n",
       "162733                1                    0                 1             1   \n",
       "\n",
       "        Urban_Rural_Urban  Employment_Status_Student  \\\n",
       "302761                  0                          0   \n",
       "832989                  1                          0   \n",
       "683471                  1                          0   \n",
       "728545                  1                          0   \n",
       "798563                  0                          0   \n",
       "...                   ...                        ...   \n",
       "346014                  0                          1   \n",
       "488311                  1                          1   \n",
       "176037                  1                          0   \n",
       "896050                  1                          1   \n",
       "162733                  1                          0   \n",
       "\n",
       "        Employment_Status_Unemployed  \n",
       "302761                             1  \n",
       "832989                             1  \n",
       "683471                             1  \n",
       "728545                             0  \n",
       "798563                             0  \n",
       "...                              ...  \n",
       "346014                             0  \n",
       "488311                             0  \n",
       "176037                             1  \n",
       "896050                             0  \n",
       "162733                             0  \n",
       "\n",
       "[538566 rows x 55 columns]"
      ]
     },
     "execution_count": 30,
     "metadata": {},
     "output_type": "execute_result"
    }
   ],
   "source": [
    "pd.set_option('display.max_columns', None)\n",
    "X_train"
   ]
  },
  {
   "cell_type": "markdown",
   "metadata": {},
   "source": [
    "## Building the neural network model"
   ]
  },
  {
   "cell_type": "code",
   "execution_count": 31,
   "metadata": {},
   "outputs": [
    {
     "name": "stdout",
     "output_type": "stream",
     "text": [
      "Requirement already satisfied: keras in ./.venv/lib/python3.11/site-packages (3.8.0)\n",
      "Requirement already satisfied: tensorflow in ./.venv/lib/python3.11/site-packages (2.18.0)\n",
      "Requirement already satisfied: scikit-learn in ./.venv/lib/python3.11/site-packages (1.6.1)\n",
      "Requirement already satisfied: absl-py in ./.venv/lib/python3.11/site-packages (from keras) (2.1.0)\n",
      "Requirement already satisfied: numpy in ./.venv/lib/python3.11/site-packages (from keras) (2.0.2)\n",
      "Requirement already satisfied: rich in ./.venv/lib/python3.11/site-packages (from keras) (13.9.4)\n",
      "Requirement already satisfied: namex in ./.venv/lib/python3.11/site-packages (from keras) (0.0.8)\n",
      "Requirement already satisfied: h5py in ./.venv/lib/python3.11/site-packages (from keras) (3.12.1)\n",
      "Requirement already satisfied: optree in ./.venv/lib/python3.11/site-packages (from keras) (0.14.0)\n",
      "Requirement already satisfied: ml-dtypes in ./.venv/lib/python3.11/site-packages (from keras) (0.4.1)\n",
      "Requirement already satisfied: packaging in ./.venv/lib/python3.11/site-packages (from keras) (24.2)\n",
      "Requirement already satisfied: astunparse>=1.6.0 in ./.venv/lib/python3.11/site-packages (from tensorflow) (1.6.3)\n",
      "Requirement already satisfied: flatbuffers>=24.3.25 in ./.venv/lib/python3.11/site-packages (from tensorflow) (25.1.24)\n",
      "Requirement already satisfied: gast!=0.5.0,!=0.5.1,!=0.5.2,>=0.2.1 in ./.venv/lib/python3.11/site-packages (from tensorflow) (0.6.0)\n",
      "Requirement already satisfied: google-pasta>=0.1.1 in ./.venv/lib/python3.11/site-packages (from tensorflow) (0.2.0)\n",
      "Requirement already satisfied: libclang>=13.0.0 in ./.venv/lib/python3.11/site-packages (from tensorflow) (18.1.1)\n",
      "Requirement already satisfied: opt-einsum>=2.3.2 in ./.venv/lib/python3.11/site-packages (from tensorflow) (3.4.0)\n",
      "Requirement already satisfied: protobuf!=4.21.0,!=4.21.1,!=4.21.2,!=4.21.3,!=4.21.4,!=4.21.5,<6.0.0dev,>=3.20.3 in ./.venv/lib/python3.11/site-packages (from tensorflow) (5.29.3)\n",
      "Requirement already satisfied: requests<3,>=2.21.0 in ./.venv/lib/python3.11/site-packages (from tensorflow) (2.32.3)\n",
      "Requirement already satisfied: setuptools in ./.venv/lib/python3.11/site-packages (from tensorflow) (65.5.0)\n",
      "Requirement already satisfied: six>=1.12.0 in ./.venv/lib/python3.11/site-packages (from tensorflow) (1.17.0)\n",
      "Requirement already satisfied: termcolor>=1.1.0 in ./.venv/lib/python3.11/site-packages (from tensorflow) (2.5.0)\n",
      "Requirement already satisfied: typing-extensions>=3.6.6 in ./.venv/lib/python3.11/site-packages (from tensorflow) (4.12.2)\n",
      "Requirement already satisfied: wrapt>=1.11.0 in ./.venv/lib/python3.11/site-packages (from tensorflow) (1.17.2)\n",
      "Requirement already satisfied: grpcio<2.0,>=1.24.3 in ./.venv/lib/python3.11/site-packages (from tensorflow) (1.70.0)\n",
      "Requirement already satisfied: tensorboard<2.19,>=2.18 in ./.venv/lib/python3.11/site-packages (from tensorflow) (2.18.0)\n",
      "Requirement already satisfied: tensorflow-io-gcs-filesystem>=0.23.1 in ./.venv/lib/python3.11/site-packages (from tensorflow) (0.37.1)\n",
      "Requirement already satisfied: scipy>=1.6.0 in ./.venv/lib/python3.11/site-packages (from scikit-learn) (1.15.1)\n",
      "Requirement already satisfied: joblib>=1.2.0 in ./.venv/lib/python3.11/site-packages (from scikit-learn) (1.4.2)\n",
      "Requirement already satisfied: threadpoolctl>=3.1.0 in ./.venv/lib/python3.11/site-packages (from scikit-learn) (3.5.0)\n",
      "Requirement already satisfied: wheel<1.0,>=0.23.0 in ./.venv/lib/python3.11/site-packages (from astunparse>=1.6.0->tensorflow) (0.45.1)\n",
      "Requirement already satisfied: charset-normalizer<4,>=2 in ./.venv/lib/python3.11/site-packages (from requests<3,>=2.21.0->tensorflow) (3.4.1)\n",
      "Requirement already satisfied: idna<4,>=2.5 in ./.venv/lib/python3.11/site-packages (from requests<3,>=2.21.0->tensorflow) (3.10)\n",
      "Requirement already satisfied: urllib3<3,>=1.21.1 in ./.venv/lib/python3.11/site-packages (from requests<3,>=2.21.0->tensorflow) (2.3.0)\n",
      "Requirement already satisfied: certifi>=2017.4.17 in ./.venv/lib/python3.11/site-packages (from requests<3,>=2.21.0->tensorflow) (2025.1.31)\n",
      "Requirement already satisfied: markdown>=2.6.8 in ./.venv/lib/python3.11/site-packages (from tensorboard<2.19,>=2.18->tensorflow) (3.7)\n",
      "Requirement already satisfied: tensorboard-data-server<0.8.0,>=0.7.0 in ./.venv/lib/python3.11/site-packages (from tensorboard<2.19,>=2.18->tensorflow) (0.7.2)\n",
      "Requirement already satisfied: werkzeug>=1.0.1 in ./.venv/lib/python3.11/site-packages (from tensorboard<2.19,>=2.18->tensorflow) (3.1.3)\n",
      "Requirement already satisfied: markdown-it-py>=2.2.0 in ./.venv/lib/python3.11/site-packages (from rich->keras) (3.0.0)\n",
      "Requirement already satisfied: pygments<3.0.0,>=2.13.0 in ./.venv/lib/python3.11/site-packages (from rich->keras) (2.19.1)\n",
      "Requirement already satisfied: mdurl~=0.1 in ./.venv/lib/python3.11/site-packages (from markdown-it-py>=2.2.0->rich->keras) (0.1.2)\n",
      "Requirement already satisfied: MarkupSafe>=2.1.1 in ./.venv/lib/python3.11/site-packages (from werkzeug>=1.0.1->tensorboard<2.19,>=2.18->tensorflow) (3.0.2)\n",
      "Note: you may need to restart the kernel to use updated packages.\n"
     ]
    }
   ],
   "source": [
    "pip install keras tensorflow scikit-learn "
   ]
  },
  {
   "cell_type": "code",
   "execution_count": 32,
   "metadata": {},
   "outputs": [
    {
     "name": "stderr",
     "output_type": "stream",
     "text": [
      "2025-02-10 21:26:59.930539: I tensorflow/core/util/port.cc:153] oneDNN custom operations are on. You may see slightly different numerical results due to floating-point round-off errors from different computation orders. To turn them off, set the environment variable `TF_ENABLE_ONEDNN_OPTS=0`.\n",
      "2025-02-10 21:26:59.940016: E external/local_xla/xla/stream_executor/cuda/cuda_fft.cc:477] Unable to register cuFFT factory: Attempting to register factory for plugin cuFFT when one has already been registered\n",
      "WARNING: All log messages before absl::InitializeLog() is called are written to STDERR\n",
      "E0000 00:00:1739203019.951020  212623 cuda_dnn.cc:8310] Unable to register cuDNN factory: Attempting to register factory for plugin cuDNN when one has already been registered\n",
      "E0000 00:00:1739203019.953940  212623 cuda_blas.cc:1418] Unable to register cuBLAS factory: Attempting to register factory for plugin cuBLAS when one has already been registered\n",
      "2025-02-10 21:26:59.964054: I tensorflow/core/platform/cpu_feature_guard.cc:210] This TensorFlow binary is optimized to use available CPU instructions in performance-critical operations.\n",
      "To enable the following instructions: AVX2 AVX_VNNI FMA, in other operations, rebuild TensorFlow with the appropriate compiler flags.\n"
     ]
    }
   ],
   "source": [
    "# load sequential api and create an object\n",
    "from keras.models import Sequential\n",
    "\n",
    "# load dense (fully connected) layer \n",
    "from keras.layers import Dense\n",
    "\n",
    "model = Sequential()"
   ]
  },
  {
   "cell_type": "code",
   "execution_count": 64,
   "metadata": {},
   "outputs": [],
   "source": [
    "#model.add(Dense(256, input_dim = X_train.shape[1], activation='relu', kernel_initializer='normal'))   #kernel_Initializers define the way to set the initial random weights of Keras layers\n",
    "model.add(Dense(64, input_dim = X_train.shape[1], activation='relu', kernel_initializer='normal'))\n",
    "#model.add(Dense(64, activation='relu', kernel_initializer='normal'))\n",
    "model.add(Dense(32, activation='relu', kernel_initializer='normal'))\n",
    "model.add(Dense(1, activation='sigmoid', kernel_initializer='normal'))  # output layer"
   ]
  },
  {
   "cell_type": "code",
   "execution_count": 65,
   "metadata": {},
   "outputs": [
    {
     "data": {
      "text/html": [
       "<pre style=\"white-space:pre;overflow-x:auto;line-height:normal;font-family:Menlo,'DejaVu Sans Mono',consolas,'Courier New',monospace\"><span style=\"font-weight: bold\">Model: \"sequential_4\"</span>\n",
       "</pre>\n"
      ],
      "text/plain": [
       "\u001b[1mModel: \"sequential_4\"\u001b[0m\n"
      ]
     },
     "metadata": {},
     "output_type": "display_data"
    },
    {
     "data": {
      "text/html": [
       "<pre style=\"white-space:pre;overflow-x:auto;line-height:normal;font-family:Menlo,'DejaVu Sans Mono',consolas,'Courier New',monospace\">┏━━━━━━━━━━━━━━━━━━━━━━━━━━━━━━━━━┳━━━━━━━━━━━━━━━━━━━━━━━━┳━━━━━━━━━━━━━━━┓\n",
       "┃<span style=\"font-weight: bold\"> Layer (type)                    </span>┃<span style=\"font-weight: bold\"> Output Shape           </span>┃<span style=\"font-weight: bold\">       Param # </span>┃\n",
       "┡━━━━━━━━━━━━━━━━━━━━━━━━━━━━━━━━━╇━━━━━━━━━━━━━━━━━━━━━━━━╇━━━━━━━━━━━━━━━┩\n",
       "│ dense_17 (<span style=\"color: #0087ff; text-decoration-color: #0087ff\">Dense</span>)                │ (<span style=\"color: #00d7ff; text-decoration-color: #00d7ff\">None</span>, <span style=\"color: #00af00; text-decoration-color: #00af00\">64</span>)             │         <span style=\"color: #00af00; text-decoration-color: #00af00\">3,584</span> │\n",
       "├─────────────────────────────────┼────────────────────────┼───────────────┤\n",
       "│ dense_18 (<span style=\"color: #0087ff; text-decoration-color: #0087ff\">Dense</span>)                │ (<span style=\"color: #00d7ff; text-decoration-color: #00d7ff\">None</span>, <span style=\"color: #00af00; text-decoration-color: #00af00\">32</span>)             │         <span style=\"color: #00af00; text-decoration-color: #00af00\">2,080</span> │\n",
       "├─────────────────────────────────┼────────────────────────┼───────────────┤\n",
       "│ dense_19 (<span style=\"color: #0087ff; text-decoration-color: #0087ff\">Dense</span>)                │ (<span style=\"color: #00d7ff; text-decoration-color: #00d7ff\">None</span>, <span style=\"color: #00af00; text-decoration-color: #00af00\">1</span>)              │            <span style=\"color: #00af00; text-decoration-color: #00af00\">33</span> │\n",
       "└─────────────────────────────────┴────────────────────────┴───────────────┘\n",
       "</pre>\n"
      ],
      "text/plain": [
       "┏━━━━━━━━━━━━━━━━━━━━━━━━━━━━━━━━━┳━━━━━━━━━━━━━━━━━━━━━━━━┳━━━━━━━━━━━━━━━┓\n",
       "┃\u001b[1m \u001b[0m\u001b[1mLayer (type)                   \u001b[0m\u001b[1m \u001b[0m┃\u001b[1m \u001b[0m\u001b[1mOutput Shape          \u001b[0m\u001b[1m \u001b[0m┃\u001b[1m \u001b[0m\u001b[1m      Param #\u001b[0m\u001b[1m \u001b[0m┃\n",
       "┡━━━━━━━━━━━━━━━━━━━━━━━━━━━━━━━━━╇━━━━━━━━━━━━━━━━━━━━━━━━╇━━━━━━━━━━━━━━━┩\n",
       "│ dense_17 (\u001b[38;5;33mDense\u001b[0m)                │ (\u001b[38;5;45mNone\u001b[0m, \u001b[38;5;34m64\u001b[0m)             │         \u001b[38;5;34m3,584\u001b[0m │\n",
       "├─────────────────────────────────┼────────────────────────┼───────────────┤\n",
       "│ dense_18 (\u001b[38;5;33mDense\u001b[0m)                │ (\u001b[38;5;45mNone\u001b[0m, \u001b[38;5;34m32\u001b[0m)             │         \u001b[38;5;34m2,080\u001b[0m │\n",
       "├─────────────────────────────────┼────────────────────────┼───────────────┤\n",
       "│ dense_19 (\u001b[38;5;33mDense\u001b[0m)                │ (\u001b[38;5;45mNone\u001b[0m, \u001b[38;5;34m1\u001b[0m)              │            \u001b[38;5;34m33\u001b[0m │\n",
       "└─────────────────────────────────┴────────────────────────┴───────────────┘\n"
      ]
     },
     "metadata": {},
     "output_type": "display_data"
    },
    {
     "data": {
      "text/html": [
       "<pre style=\"white-space:pre;overflow-x:auto;line-height:normal;font-family:Menlo,'DejaVu Sans Mono',consolas,'Courier New',monospace\"><span style=\"font-weight: bold\"> Total params: </span><span style=\"color: #00af00; text-decoration-color: #00af00\">5,697</span> (22.25 KB)\n",
       "</pre>\n"
      ],
      "text/plain": [
       "\u001b[1m Total params: \u001b[0m\u001b[38;5;34m5,697\u001b[0m (22.25 KB)\n"
      ]
     },
     "metadata": {},
     "output_type": "display_data"
    },
    {
     "data": {
      "text/html": [
       "<pre style=\"white-space:pre;overflow-x:auto;line-height:normal;font-family:Menlo,'DejaVu Sans Mono',consolas,'Courier New',monospace\"><span style=\"font-weight: bold\"> Trainable params: </span><span style=\"color: #00af00; text-decoration-color: #00af00\">5,697</span> (22.25 KB)\n",
       "</pre>\n"
      ],
      "text/plain": [
       "\u001b[1m Trainable params: \u001b[0m\u001b[38;5;34m5,697\u001b[0m (22.25 KB)\n"
      ]
     },
     "metadata": {},
     "output_type": "display_data"
    },
    {
     "data": {
      "text/html": [
       "<pre style=\"white-space:pre;overflow-x:auto;line-height:normal;font-family:Menlo,'DejaVu Sans Mono',consolas,'Courier New',monospace\"><span style=\"font-weight: bold\"> Non-trainable params: </span><span style=\"color: #00af00; text-decoration-color: #00af00\">0</span> (0.00 B)\n",
       "</pre>\n"
      ],
      "text/plain": [
       "\u001b[1m Non-trainable params: \u001b[0m\u001b[38;5;34m0\u001b[0m (0.00 B)\n"
      ]
     },
     "metadata": {},
     "output_type": "display_data"
    }
   ],
   "source": [
    "model.summary()"
   ]
  },
  {
   "cell_type": "code",
   "execution_count": 66,
   "metadata": {},
   "outputs": [],
   "source": [
    "model.compile(loss = 'binary_crossentropy', optimizer = 'SGD', metrics = ['accuracy'])"
   ]
  },
  {
   "cell_type": "code",
   "execution_count": 67,
   "metadata": {},
   "outputs": [
    {
     "name": "stdout",
     "output_type": "stream",
     "text": [
      "Epoch 1/50\n",
      "\u001b[1m4309/4309\u001b[0m \u001b[32m━━━━━━━━━━━━━━━━━━━━\u001b[0m\u001b[37m\u001b[0m \u001b[1m5s\u001b[0m 1ms/step - accuracy: 0.4984 - loss: 0.6933 - val_accuracy: 0.5049 - val_loss: 0.6931\n",
      "Epoch 2/50\n",
      "\u001b[1m4309/4309\u001b[0m \u001b[32m━━━━━━━━━━━━━━━━━━━━\u001b[0m\u001b[37m\u001b[0m \u001b[1m4s\u001b[0m 1ms/step - accuracy: 0.5000 - loss: 0.6932 - val_accuracy: 0.5046 - val_loss: 0.6932\n",
      "Epoch 3/50\n",
      "\u001b[1m4309/4309\u001b[0m \u001b[32m━━━━━━━━━━━━━━━━━━━━\u001b[0m\u001b[37m\u001b[0m \u001b[1m6s\u001b[0m 1ms/step - accuracy: 0.4999 - loss: 0.6932 - val_accuracy: 0.4958 - val_loss: 0.6932\n",
      "Epoch 4/50\n",
      "\u001b[1m4309/4309\u001b[0m \u001b[32m━━━━━━━━━━━━━━━━━━━━\u001b[0m\u001b[37m\u001b[0m \u001b[1m6s\u001b[0m 1ms/step - accuracy: 0.4982 - loss: 0.6932 - val_accuracy: 0.4954 - val_loss: 0.6932\n",
      "Epoch 5/50\n",
      "\u001b[1m4309/4309\u001b[0m \u001b[32m━━━━━━━━━━━━━━━━━━━━\u001b[0m\u001b[37m\u001b[0m \u001b[1m6s\u001b[0m 1ms/step - accuracy: 0.5007 - loss: 0.6931 - val_accuracy: 0.5045 - val_loss: 0.6931\n",
      "Epoch 6/50\n",
      "\u001b[1m4309/4309\u001b[0m \u001b[32m━━━━━━━━━━━━━━━━━━━━\u001b[0m\u001b[37m\u001b[0m \u001b[1m6s\u001b[0m 1ms/step - accuracy: 0.5001 - loss: 0.6932 - val_accuracy: 0.5046 - val_loss: 0.6931\n",
      "Epoch 7/50\n",
      "\u001b[1m4309/4309\u001b[0m \u001b[32m━━━━━━━━━━━━━━━━━━━━\u001b[0m\u001b[37m\u001b[0m \u001b[1m5s\u001b[0m 1ms/step - accuracy: 0.5009 - loss: 0.6932 - val_accuracy: 0.5051 - val_loss: 0.6931\n",
      "Epoch 8/50\n",
      "\u001b[1m4309/4309\u001b[0m \u001b[32m━━━━━━━━━━━━━━━━━━━━\u001b[0m\u001b[37m\u001b[0m \u001b[1m6s\u001b[0m 1ms/step - accuracy: 0.5004 - loss: 0.6932 - val_accuracy: 0.4955 - val_loss: 0.6933\n",
      "Epoch 9/50\n",
      "\u001b[1m4309/4309\u001b[0m \u001b[32m━━━━━━━━━━━━━━━━━━━━\u001b[0m\u001b[37m\u001b[0m \u001b[1m6s\u001b[0m 1ms/step - accuracy: 0.5023 - loss: 0.6931 - val_accuracy: 0.5045 - val_loss: 0.6931\n",
      "Epoch 10/50\n",
      "\u001b[1m4309/4309\u001b[0m \u001b[32m━━━━━━━━━━━━━━━━━━━━\u001b[0m\u001b[37m\u001b[0m \u001b[1m6s\u001b[0m 1ms/step - accuracy: 0.5017 - loss: 0.6931 - val_accuracy: 0.4986 - val_loss: 0.6932\n",
      "Epoch 11/50\n",
      "\u001b[1m4309/4309\u001b[0m \u001b[32m━━━━━━━━━━━━━━━━━━━━\u001b[0m\u001b[37m\u001b[0m \u001b[1m6s\u001b[0m 1ms/step - accuracy: 0.5007 - loss: 0.6932 - val_accuracy: 0.5051 - val_loss: 0.6931\n",
      "Epoch 12/50\n",
      "\u001b[1m4309/4309\u001b[0m \u001b[32m━━━━━━━━━━━━━━━━━━━━\u001b[0m\u001b[37m\u001b[0m \u001b[1m6s\u001b[0m 1ms/step - accuracy: 0.5006 - loss: 0.6932 - val_accuracy: 0.4955 - val_loss: 0.6932\n",
      "Epoch 13/50\n",
      "\u001b[1m4309/4309\u001b[0m \u001b[32m━━━━━━━━━━━━━━━━━━━━\u001b[0m\u001b[37m\u001b[0m \u001b[1m5s\u001b[0m 1ms/step - accuracy: 0.5012 - loss: 0.6932 - val_accuracy: 0.4954 - val_loss: 0.6933\n",
      "Epoch 14/50\n",
      "\u001b[1m4309/4309\u001b[0m \u001b[32m━━━━━━━━━━━━━━━━━━━━\u001b[0m\u001b[37m\u001b[0m \u001b[1m5s\u001b[0m 1ms/step - accuracy: 0.4999 - loss: 0.6932 - val_accuracy: 0.5046 - val_loss: 0.6931\n",
      "Epoch 15/50\n",
      "\u001b[1m4309/4309\u001b[0m \u001b[32m━━━━━━━━━━━━━━━━━━━━\u001b[0m\u001b[37m\u001b[0m \u001b[1m5s\u001b[0m 1ms/step - accuracy: 0.5008 - loss: 0.6932 - val_accuracy: 0.5051 - val_loss: 0.6931\n",
      "Epoch 16/50\n",
      "\u001b[1m4309/4309\u001b[0m \u001b[32m━━━━━━━━━━━━━━━━━━━━\u001b[0m\u001b[37m\u001b[0m \u001b[1m5s\u001b[0m 1ms/step - accuracy: 0.5009 - loss: 0.6931 - val_accuracy: 0.5020 - val_loss: 0.6931\n",
      "Epoch 17/50\n",
      "\u001b[1m4309/4309\u001b[0m \u001b[32m━━━━━━━━━━━━━━━━━━━━\u001b[0m\u001b[37m\u001b[0m \u001b[1m5s\u001b[0m 1ms/step - accuracy: 0.5015 - loss: 0.6931 - val_accuracy: 0.4991 - val_loss: 0.6932\n",
      "Epoch 18/50\n",
      "\u001b[1m4309/4309\u001b[0m \u001b[32m━━━━━━━━━━━━━━━━━━━━\u001b[0m\u001b[37m\u001b[0m \u001b[1m5s\u001b[0m 1ms/step - accuracy: 0.5017 - loss: 0.6931 - val_accuracy: 0.5047 - val_loss: 0.6931\n",
      "Epoch 19/50\n",
      "\u001b[1m4309/4309\u001b[0m \u001b[32m━━━━━━━━━━━━━━━━━━━━\u001b[0m\u001b[37m\u001b[0m \u001b[1m5s\u001b[0m 1ms/step - accuracy: 0.5020 - loss: 0.6931 - val_accuracy: 0.5044 - val_loss: 0.6931\n",
      "Epoch 20/50\n",
      "\u001b[1m4309/4309\u001b[0m \u001b[32m━━━━━━━━━━━━━━━━━━━━\u001b[0m\u001b[37m\u001b[0m \u001b[1m5s\u001b[0m 1ms/step - accuracy: 0.5020 - loss: 0.6931 - val_accuracy: 0.4977 - val_loss: 0.6932\n",
      "Epoch 21/50\n",
      "\u001b[1m4309/4309\u001b[0m \u001b[32m━━━━━━━━━━━━━━━━━━━━\u001b[0m\u001b[37m\u001b[0m \u001b[1m5s\u001b[0m 1ms/step - accuracy: 0.5022 - loss: 0.6931 - val_accuracy: 0.5036 - val_loss: 0.6931\n",
      "Epoch 22/50\n",
      "\u001b[1m4309/4309\u001b[0m \u001b[32m━━━━━━━━━━━━━━━━━━━━\u001b[0m\u001b[37m\u001b[0m \u001b[1m6s\u001b[0m 1ms/step - accuracy: 0.5011 - loss: 0.6931 - val_accuracy: 0.5019 - val_loss: 0.6931\n",
      "Epoch 23/50\n",
      "\u001b[1m4309/4309\u001b[0m \u001b[32m━━━━━━━━━━━━━━━━━━━━\u001b[0m\u001b[37m\u001b[0m \u001b[1m5s\u001b[0m 1ms/step - accuracy: 0.5030 - loss: 0.6931 - val_accuracy: 0.5018 - val_loss: 0.6931\n",
      "Epoch 24/50\n",
      "\u001b[1m4309/4309\u001b[0m \u001b[32m━━━━━━━━━━━━━━━━━━━━\u001b[0m\u001b[37m\u001b[0m \u001b[1m5s\u001b[0m 1ms/step - accuracy: 0.5017 - loss: 0.6931 - val_accuracy: 0.5047 - val_loss: 0.6931\n",
      "Epoch 25/50\n",
      "\u001b[1m4309/4309\u001b[0m \u001b[32m━━━━━━━━━━━━━━━━━━━━\u001b[0m\u001b[37m\u001b[0m \u001b[1m5s\u001b[0m 1ms/step - accuracy: 0.5020 - loss: 0.6931 - val_accuracy: 0.5035 - val_loss: 0.6931\n",
      "Epoch 26/50\n",
      "\u001b[1m4309/4309\u001b[0m \u001b[32m━━━━━━━━━━━━━━━━━━━━\u001b[0m\u001b[37m\u001b[0m \u001b[1m5s\u001b[0m 1ms/step - accuracy: 0.5027 - loss: 0.6931 - val_accuracy: 0.5046 - val_loss: 0.6931\n",
      "Epoch 27/50\n",
      "\u001b[1m4309/4309\u001b[0m \u001b[32m━━━━━━━━━━━━━━━━━━━━\u001b[0m\u001b[37m\u001b[0m \u001b[1m5s\u001b[0m 1ms/step - accuracy: 0.5012 - loss: 0.6931 - val_accuracy: 0.4975 - val_loss: 0.6932\n",
      "Epoch 28/50\n",
      "\u001b[1m4309/4309\u001b[0m \u001b[32m━━━━━━━━━━━━━━━━━━━━\u001b[0m\u001b[37m\u001b[0m \u001b[1m5s\u001b[0m 1ms/step - accuracy: 0.5028 - loss: 0.6931 - val_accuracy: 0.5046 - val_loss: 0.6931\n",
      "Epoch 29/50\n",
      "\u001b[1m4309/4309\u001b[0m \u001b[32m━━━━━━━━━━━━━━━━━━━━\u001b[0m\u001b[37m\u001b[0m \u001b[1m5s\u001b[0m 1ms/step - accuracy: 0.5014 - loss: 0.6932 - val_accuracy: 0.4988 - val_loss: 0.6932\n",
      "Epoch 30/50\n",
      "\u001b[1m4309/4309\u001b[0m \u001b[32m━━━━━━━━━━━━━━━━━━━━\u001b[0m\u001b[37m\u001b[0m \u001b[1m5s\u001b[0m 1ms/step - accuracy: 0.5032 - loss: 0.6931 - val_accuracy: 0.5056 - val_loss: 0.6931\n",
      "Epoch 31/50\n",
      "\u001b[1m4309/4309\u001b[0m \u001b[32m━━━━━━━━━━━━━━━━━━━━\u001b[0m\u001b[37m\u001b[0m \u001b[1m5s\u001b[0m 1ms/step - accuracy: 0.5018 - loss: 0.6931 - val_accuracy: 0.5020 - val_loss: 0.6931\n",
      "Epoch 32/50\n",
      "\u001b[1m4309/4309\u001b[0m \u001b[32m━━━━━━━━━━━━━━━━━━━━\u001b[0m\u001b[37m\u001b[0m \u001b[1m5s\u001b[0m 1ms/step - accuracy: 0.5033 - loss: 0.6931 - val_accuracy: 0.4979 - val_loss: 0.6932\n",
      "Epoch 33/50\n",
      "\u001b[1m4309/4309\u001b[0m \u001b[32m━━━━━━━━━━━━━━━━━━━━\u001b[0m\u001b[37m\u001b[0m \u001b[1m6s\u001b[0m 1ms/step - accuracy: 0.5023 - loss: 0.6931 - val_accuracy: 0.5029 - val_loss: 0.6931\n",
      "Epoch 34/50\n",
      "\u001b[1m4309/4309\u001b[0m \u001b[32m━━━━━━━━━━━━━━━━━━━━\u001b[0m\u001b[37m\u001b[0m \u001b[1m6s\u001b[0m 1ms/step - accuracy: 0.5027 - loss: 0.6931 - val_accuracy: 0.5030 - val_loss: 0.6931\n",
      "Epoch 35/50\n",
      "\u001b[1m4309/4309\u001b[0m \u001b[32m━━━━━━━━━━━━━━━━━━━━\u001b[0m\u001b[37m\u001b[0m \u001b[1m6s\u001b[0m 1ms/step - accuracy: 0.5025 - loss: 0.6931 - val_accuracy: 0.5047 - val_loss: 0.6931\n",
      "Epoch 36/50\n",
      "\u001b[1m4309/4309\u001b[0m \u001b[32m━━━━━━━━━━━━━━━━━━━━\u001b[0m\u001b[37m\u001b[0m \u001b[1m7s\u001b[0m 2ms/step - accuracy: 0.5021 - loss: 0.6931 - val_accuracy: 0.5067 - val_loss: 0.6931\n",
      "Epoch 37/50\n",
      "\u001b[1m4309/4309\u001b[0m \u001b[32m━━━━━━━━━━━━━━━━━━━━\u001b[0m\u001b[37m\u001b[0m \u001b[1m6s\u001b[0m 1ms/step - accuracy: 0.5012 - loss: 0.6931 - val_accuracy: 0.5051 - val_loss: 0.6931\n",
      "Epoch 38/50\n",
      "\u001b[1m4309/4309\u001b[0m \u001b[32m━━━━━━━━━━━━━━━━━━━━\u001b[0m\u001b[37m\u001b[0m \u001b[1m6s\u001b[0m 1ms/step - accuracy: 0.5016 - loss: 0.6931 - val_accuracy: 0.5017 - val_loss: 0.6931\n",
      "Epoch 39/50\n",
      "\u001b[1m4309/4309\u001b[0m \u001b[32m━━━━━━━━━━━━━━━━━━━━\u001b[0m\u001b[37m\u001b[0m \u001b[1m6s\u001b[0m 1ms/step - accuracy: 0.5037 - loss: 0.6931 - val_accuracy: 0.5045 - val_loss: 0.6931\n",
      "Epoch 40/50\n",
      "\u001b[1m4309/4309\u001b[0m \u001b[32m━━━━━━━━━━━━━━━━━━━━\u001b[0m\u001b[37m\u001b[0m \u001b[1m6s\u001b[0m 1ms/step - accuracy: 0.5021 - loss: 0.6931 - val_accuracy: 0.5046 - val_loss: 0.6931\n",
      "Epoch 41/50\n",
      "\u001b[1m4309/4309\u001b[0m \u001b[32m━━━━━━━━━━━━━━━━━━━━\u001b[0m\u001b[37m\u001b[0m \u001b[1m6s\u001b[0m 1ms/step - accuracy: 0.5023 - loss: 0.6931 - val_accuracy: 0.5028 - val_loss: 0.6931\n",
      "Epoch 42/50\n",
      "\u001b[1m4309/4309\u001b[0m \u001b[32m━━━━━━━━━━━━━━━━━━━━\u001b[0m\u001b[37m\u001b[0m \u001b[1m6s\u001b[0m 1ms/step - accuracy: 0.5028 - loss: 0.6931 - val_accuracy: 0.5021 - val_loss: 0.6931\n",
      "Epoch 43/50\n",
      "\u001b[1m4309/4309\u001b[0m \u001b[32m━━━━━━━━━━━━━━━━━━━━\u001b[0m\u001b[37m\u001b[0m \u001b[1m7s\u001b[0m 2ms/step - accuracy: 0.5041 - loss: 0.6931 - val_accuracy: 0.5014 - val_loss: 0.6931\n",
      "Epoch 44/50\n",
      "\u001b[1m4309/4309\u001b[0m \u001b[32m━━━━━━━━━━━━━━━━━━━━\u001b[0m\u001b[37m\u001b[0m \u001b[1m7s\u001b[0m 2ms/step - accuracy: 0.5034 - loss: 0.6931 - val_accuracy: 0.5028 - val_loss: 0.6931\n",
      "Epoch 45/50\n",
      "\u001b[1m4309/4309\u001b[0m \u001b[32m━━━━━━━━━━━━━━━━━━━━\u001b[0m\u001b[37m\u001b[0m \u001b[1m6s\u001b[0m 1ms/step - accuracy: 0.5018 - loss: 0.6931 - val_accuracy: 0.5046 - val_loss: 0.6931\n",
      "Epoch 46/50\n",
      "\u001b[1m4309/4309\u001b[0m \u001b[32m━━━━━━━━━━━━━━━━━━━━\u001b[0m\u001b[37m\u001b[0m \u001b[1m6s\u001b[0m 1ms/step - accuracy: 0.5032 - loss: 0.6931 - val_accuracy: 0.4993 - val_loss: 0.6932\n",
      "Epoch 47/50\n",
      "\u001b[1m4309/4309\u001b[0m \u001b[32m━━━━━━━━━━━━━━━━━━━━\u001b[0m\u001b[37m\u001b[0m \u001b[1m7s\u001b[0m 2ms/step - accuracy: 0.5038 - loss: 0.6931 - val_accuracy: 0.4996 - val_loss: 0.6932\n",
      "Epoch 48/50\n",
      "\u001b[1m4309/4309\u001b[0m \u001b[32m━━━━━━━━━━━━━━━━━━━━\u001b[0m\u001b[37m\u001b[0m \u001b[1m6s\u001b[0m 1ms/step - accuracy: 0.5027 - loss: 0.6931 - val_accuracy: 0.5007 - val_loss: 0.6932\n",
      "Epoch 49/50\n",
      "\u001b[1m4309/4309\u001b[0m \u001b[32m━━━━━━━━━━━━━━━━━━━━\u001b[0m\u001b[37m\u001b[0m \u001b[1m6s\u001b[0m 1ms/step - accuracy: 0.5024 - loss: 0.6931 - val_accuracy: 0.5020 - val_loss: 0.6931\n",
      "Epoch 50/50\n",
      "\u001b[1m4309/4309\u001b[0m \u001b[32m━━━━━━━━━━━━━━━━━━━━\u001b[0m\u001b[37m\u001b[0m \u001b[1m6s\u001b[0m 1ms/step - accuracy: 0.5028 - loss: 0.6931 - val_accuracy: 0.5016 - val_loss: 0.6931\n"
     ]
    }
   ],
   "source": [
    "model_history = model.fit(X_train, y_train, batch_size = 100, epochs = 50, \n",
    "                          validation_split = 0.2)"
   ]
  },
  {
   "cell_type": "code",
   "execution_count": 68,
   "metadata": {},
   "outputs": [
    {
     "name": "stdout",
     "output_type": "stream",
     "text": [
      "\u001b[1m4208/4208\u001b[0m \u001b[32m━━━━━━━━━━━━━━━━━━━━\u001b[0m\u001b[37m\u001b[0m \u001b[1m2s\u001b[0m 425us/step\n"
     ]
    },
    {
     "data": {
      "text/plain": [
       "array([[False],\n",
       "       [False],\n",
       "       [ True],\n",
       "       ...,\n",
       "       [ True],\n",
       "       [False],\n",
       "       [False]], shape=(134642, 1))"
      ]
     },
     "execution_count": 68,
     "metadata": {},
     "output_type": "execute_result"
    }
   ],
   "source": [
    "# predicting the values\n",
    "y_pred = model.predict(X_test)\n",
    "y_pred = (y_pred > 0.5)\n",
    "y_pred"
   ]
  },
  {
   "cell_type": "code",
   "execution_count": 69,
   "metadata": {},
   "outputs": [
    {
     "data": {
      "text/plain": [
       "array([[0],\n",
       "       [0],\n",
       "       [1],\n",
       "       ...,\n",
       "       [1],\n",
       "       [0],\n",
       "       [0]], shape=(134642, 1))"
      ]
     },
     "execution_count": 69,
     "metadata": {},
     "output_type": "execute_result"
    }
   ],
   "source": [
    "# converting y_pred to int\n",
    "y_pred = y_pred.astype(int)\n",
    "y_pred"
   ]
  },
  {
   "cell_type": "code",
   "execution_count": 70,
   "metadata": {},
   "outputs": [
    {
     "data": {
      "text/plain": [
       "0.500103979441779"
      ]
     },
     "execution_count": 70,
     "metadata": {},
     "output_type": "execute_result"
    }
   ],
   "source": [
    "# accuracy score\n",
    "from sklearn.metrics import accuracy_score\n",
    "accuracy_score(y_test, y_pred)"
   ]
  },
  {
   "cell_type": "code",
   "execution_count": 71,
   "metadata": {},
   "outputs": [
    {
     "data": {
      "text/plain": [
       "array([[37631, 29577],\n",
       "       [37730, 29704]])"
      ]
     },
     "execution_count": 71,
     "metadata": {},
     "output_type": "execute_result"
    }
   ],
   "source": [
    "# confusion matrix\n",
    "from sklearn.metrics import confusion_matrix\n",
    "confusion_matrix(y_test, y_pred)\n"
   ]
  },
  {
   "cell_type": "code",
   "execution_count": 73,
   "metadata": {},
   "outputs": [
    {
     "name": "stderr",
     "output_type": "stream",
     "text": [
      "WARNING:absl:You are saving your model as an HDF5 file via `model.save()` or `keras.saving.save_model(model)`. This file format is considered legacy. We recommend using instead the native Keras format, e.g. `model.save('my_model.keras')` or `keras.saving.save_model(model, 'my_model.keras')`. \n"
     ]
    }
   ],
   "source": [
    "# saving the model\n",
    "model.save(\"./model4.h5\")"
   ]
  },
  {
   "cell_type": "markdown",
   "metadata": {},
   "source": [
    "### 1st model\n",
    "\n",
    "- While using tanh as activation function in hidden layers we are getting 0 True positives and 0 False negatives\n",
    "\n",
    "[    0, 67208],\n",
    "\n",
    "[    0, 67434]\n",
    "\n",
    "- the hidden layer structure was [256, 128, 64, 32, 1]\n",
    "\n",
    "- the accuracy score was 0.5008392626372157"
   ]
  },
  {
   "cell_type": "markdown",
   "metadata": {},
   "source": [
    "### 2nd model\n",
    "- using relu as activation function\n",
    "\n",
    "[ 2154, 65054],\n",
    "\n",
    "[ 2100, 65334]\n",
    "\n",
    "- the hidden layer structure was [256, 128, 64, 32, 1]\n",
    "\n",
    "- the accuracy score was 0.501240326198363"
   ]
  },
  {
   "cell_type": "markdown",
   "metadata": {},
   "source": [
    "### 3rd model\n",
    "\n",
    "- used all relu activation functions even in the first layer \n",
    "- optimizer -----> sigma\n",
    "#### Confusion matrix\n",
    "\n",
    "     [ 8335, 58873],\n",
    "     [ 8384, 59050]\n",
    "\n",
    "- the hidden layer structure was [256, 64, 32, 1]\n",
    "\n",
    "- the accuracy score was 0.5004753345909895\n",
    "\n",
    "- saved as \"model3.h5\"\n",
    "\n",
    "- no of epochs = 15\n"
   ]
  },
  {
   "cell_type": "code",
   "execution_count": 112,
   "metadata": {},
   "outputs": [],
   "source": [
    "# converting the X_tes to csv for testing purposes without index\n",
    "X_test.to_csv(\"./X_test.csv\", index = False)"
   ]
  },
  {
   "cell_type": "code",
   "execution_count": 111,
   "metadata": {},
   "outputs": [
    {
     "data": {
      "text/plain": [
       "(134642, 55)"
      ]
     },
     "execution_count": 111,
     "metadata": {},
     "output_type": "execute_result"
    }
   ],
   "source": [
    "X_test.shape"
   ]
  },
  {
   "cell_type": "code",
   "execution_count": 113,
   "metadata": {},
   "outputs": [
    {
     "data": {
      "text/plain": [
       "<keras.src.engine.sequential.Sequential at 0x78e8d310e8c0>"
      ]
     },
     "execution_count": 113,
     "metadata": {},
     "output_type": "execute_result"
    }
   ],
   "source": [
    "# loading the model\n",
    "from keras.models import load_model\n",
    "model = load_model(\"./model3.h5\")\n",
    "model"
   ]
  },
  {
   "cell_type": "code",
   "execution_count": 114,
   "metadata": {},
   "outputs": [
    {
     "name": "stdout",
     "output_type": "stream",
     "text": [
      "4208/4208 [==============================] - 41s 10ms/step\n"
     ]
    },
    {
     "data": {
      "text/plain": [
       "array([[0.498591  ],\n",
       "       [0.5008272 ],\n",
       "       [0.5028998 ],\n",
       "       ...,\n",
       "       [0.5021664 ],\n",
       "       [0.50116193],\n",
       "       [0.4993142 ]], dtype=float32)"
      ]
     },
     "execution_count": 114,
     "metadata": {},
     "output_type": "execute_result"
    }
   ],
   "source": [
    "# predicting the values\n",
    "y_pred = model.predict(X_test)\n",
    "y_pred"
   ]
  },
  {
   "cell_type": "markdown",
   "metadata": {},
   "source": [
    "### Single layer single perceptron model"
   ]
  },
  {
   "cell_type": "code",
   "execution_count": 39,
   "metadata": {},
   "outputs": [],
   "source": [
    "model1 = Sequential()"
   ]
  },
  {
   "cell_type": "code",
   "execution_count": 40,
   "metadata": {},
   "outputs": [
    {
     "name": "stderr",
     "output_type": "stream",
     "text": [
      "/home/srihari/Downloads/krishu/.venv/lib/python3.11/site-packages/keras/src/layers/core/dense.py:87: UserWarning: Do not pass an `input_shape`/`input_dim` argument to a layer. When using Sequential models, prefer using an `Input(shape)` object as the first layer in the model instead.\n",
      "  super().__init__(activity_regularizer=activity_regularizer, **kwargs)\n"
     ]
    }
   ],
   "source": [
    "model1.add(Dense(1, input_dim = X_train.shape[1], activation='sigmoid', kernel_initializer='normal'))"
   ]
  },
  {
   "cell_type": "code",
   "execution_count": 41,
   "metadata": {},
   "outputs": [
    {
     "data": {
      "text/html": [
       "<pre style=\"white-space:pre;overflow-x:auto;line-height:normal;font-family:Menlo,'DejaVu Sans Mono',consolas,'Courier New',monospace\"><span style=\"font-weight: bold\">Model: \"sequential_2\"</span>\n",
       "</pre>\n"
      ],
      "text/plain": [
       "\u001b[1mModel: \"sequential_2\"\u001b[0m\n"
      ]
     },
     "metadata": {},
     "output_type": "display_data"
    },
    {
     "data": {
      "text/html": [
       "<pre style=\"white-space:pre;overflow-x:auto;line-height:normal;font-family:Menlo,'DejaVu Sans Mono',consolas,'Courier New',monospace\">┏━━━━━━━━━━━━━━━━━━━━━━━━━━━━━━━━━┳━━━━━━━━━━━━━━━━━━━━━━━━┳━━━━━━━━━━━━━━━┓\n",
       "┃<span style=\"font-weight: bold\"> Layer (type)                    </span>┃<span style=\"font-weight: bold\"> Output Shape           </span>┃<span style=\"font-weight: bold\">       Param # </span>┃\n",
       "┡━━━━━━━━━━━━━━━━━━━━━━━━━━━━━━━━━╇━━━━━━━━━━━━━━━━━━━━━━━━╇━━━━━━━━━━━━━━━┩\n",
       "│ dense_1 (<span style=\"color: #0087ff; text-decoration-color: #0087ff\">Dense</span>)                 │ (<span style=\"color: #00d7ff; text-decoration-color: #00d7ff\">None</span>, <span style=\"color: #00af00; text-decoration-color: #00af00\">1</span>)              │            <span style=\"color: #00af00; text-decoration-color: #00af00\">56</span> │\n",
       "└─────────────────────────────────┴────────────────────────┴───────────────┘\n",
       "</pre>\n"
      ],
      "text/plain": [
       "┏━━━━━━━━━━━━━━━━━━━━━━━━━━━━━━━━━┳━━━━━━━━━━━━━━━━━━━━━━━━┳━━━━━━━━━━━━━━━┓\n",
       "┃\u001b[1m \u001b[0m\u001b[1mLayer (type)                   \u001b[0m\u001b[1m \u001b[0m┃\u001b[1m \u001b[0m\u001b[1mOutput Shape          \u001b[0m\u001b[1m \u001b[0m┃\u001b[1m \u001b[0m\u001b[1m      Param #\u001b[0m\u001b[1m \u001b[0m┃\n",
       "┡━━━━━━━━━━━━━━━━━━━━━━━━━━━━━━━━━╇━━━━━━━━━━━━━━━━━━━━━━━━╇━━━━━━━━━━━━━━━┩\n",
       "│ dense_1 (\u001b[38;5;33mDense\u001b[0m)                 │ (\u001b[38;5;45mNone\u001b[0m, \u001b[38;5;34m1\u001b[0m)              │            \u001b[38;5;34m56\u001b[0m │\n",
       "└─────────────────────────────────┴────────────────────────┴───────────────┘\n"
      ]
     },
     "metadata": {},
     "output_type": "display_data"
    },
    {
     "data": {
      "text/html": [
       "<pre style=\"white-space:pre;overflow-x:auto;line-height:normal;font-family:Menlo,'DejaVu Sans Mono',consolas,'Courier New',monospace\"><span style=\"font-weight: bold\"> Total params: </span><span style=\"color: #00af00; text-decoration-color: #00af00\">56</span> (224.00 B)\n",
       "</pre>\n"
      ],
      "text/plain": [
       "\u001b[1m Total params: \u001b[0m\u001b[38;5;34m56\u001b[0m (224.00 B)\n"
      ]
     },
     "metadata": {},
     "output_type": "display_data"
    },
    {
     "data": {
      "text/html": [
       "<pre style=\"white-space:pre;overflow-x:auto;line-height:normal;font-family:Menlo,'DejaVu Sans Mono',consolas,'Courier New',monospace\"><span style=\"font-weight: bold\"> Trainable params: </span><span style=\"color: #00af00; text-decoration-color: #00af00\">56</span> (224.00 B)\n",
       "</pre>\n"
      ],
      "text/plain": [
       "\u001b[1m Trainable params: \u001b[0m\u001b[38;5;34m56\u001b[0m (224.00 B)\n"
      ]
     },
     "metadata": {},
     "output_type": "display_data"
    },
    {
     "data": {
      "text/html": [
       "<pre style=\"white-space:pre;overflow-x:auto;line-height:normal;font-family:Menlo,'DejaVu Sans Mono',consolas,'Courier New',monospace\"><span style=\"font-weight: bold\"> Non-trainable params: </span><span style=\"color: #00af00; text-decoration-color: #00af00\">0</span> (0.00 B)\n",
       "</pre>\n"
      ],
      "text/plain": [
       "\u001b[1m Non-trainable params: \u001b[0m\u001b[38;5;34m0\u001b[0m (0.00 B)\n"
      ]
     },
     "metadata": {},
     "output_type": "display_data"
    }
   ],
   "source": [
    "model1.summary()"
   ]
  },
  {
   "cell_type": "code",
   "execution_count": 42,
   "metadata": {},
   "outputs": [],
   "source": [
    "model1.compile(loss = 'binary_crossentropy', optimizer = 'SGD', metrics = ['accuracy'])"
   ]
  },
  {
   "cell_type": "code",
   "execution_count": 43,
   "metadata": {},
   "outputs": [
    {
     "name": "stdout",
     "output_type": "stream",
     "text": [
      "Epoch 1/50\n",
      "\u001b[1m4309/4309\u001b[0m \u001b[32m━━━━━━━━━━━━━━━━━━━━\u001b[0m\u001b[37m\u001b[0m \u001b[1m4s\u001b[0m 901us/step - accuracy: 0.4991 - loss: 0.7597 - val_accuracy: 0.5046 - val_loss: 0.9941\n",
      "Epoch 2/50\n",
      "\u001b[1m4309/4309\u001b[0m \u001b[32m━━━━━━━━━━━━━━━━━━━━\u001b[0m\u001b[37m\u001b[0m \u001b[1m4s\u001b[0m 889us/step - accuracy: 0.5019 - loss: 0.7520 - val_accuracy: 0.4954 - val_loss: 0.7082\n",
      "Epoch 3/50\n",
      "\u001b[1m4309/4309\u001b[0m \u001b[32m━━━━━━━━━━━━━━━━━━━━\u001b[0m\u001b[37m\u001b[0m \u001b[1m4s\u001b[0m 952us/step - accuracy: 0.4989 - loss: 0.7624 - val_accuracy: 0.5049 - val_loss: 0.6933\n",
      "Epoch 4/50\n",
      "\u001b[1m4309/4309\u001b[0m \u001b[32m━━━━━━━━━━━━━━━━━━━━\u001b[0m\u001b[37m\u001b[0m \u001b[1m4s\u001b[0m 897us/step - accuracy: 0.5016 - loss: 0.7490 - val_accuracy: 0.4954 - val_loss: 0.9775\n",
      "Epoch 5/50\n",
      "\u001b[1m4309/4309\u001b[0m \u001b[32m━━━━━━━━━━━━━━━━━━━━\u001b[0m\u001b[37m\u001b[0m \u001b[1m4s\u001b[0m 920us/step - accuracy: 0.5004 - loss: 0.7582 - val_accuracy: 0.4959 - val_loss: 0.6949\n",
      "Epoch 6/50\n",
      "\u001b[1m4309/4309\u001b[0m \u001b[32m━━━━━━━━━━━━━━━━━━━━\u001b[0m\u001b[37m\u001b[0m \u001b[1m4s\u001b[0m 1ms/step - accuracy: 0.5014 - loss: 0.7531 - val_accuracy: 0.4954 - val_loss: 0.7530\n",
      "Epoch 7/50\n",
      "\u001b[1m4309/4309\u001b[0m \u001b[32m━━━━━━━━━━━━━━━━━━━━\u001b[0m\u001b[37m\u001b[0m \u001b[1m5s\u001b[0m 1ms/step - accuracy: 0.4992 - loss: 0.7622 - val_accuracy: 0.5046 - val_loss: 0.8280\n",
      "Epoch 8/50\n",
      "\u001b[1m4309/4309\u001b[0m \u001b[32m━━━━━━━━━━━━━━━━━━━━\u001b[0m\u001b[37m\u001b[0m \u001b[1m4s\u001b[0m 1ms/step - accuracy: 0.5006 - loss: 0.7553 - val_accuracy: 0.5046 - val_loss: 0.7914\n",
      "Epoch 9/50\n",
      "\u001b[1m4309/4309\u001b[0m \u001b[32m━━━━━━━━━━━━━━━━━━━━\u001b[0m\u001b[37m\u001b[0m \u001b[1m5s\u001b[0m 1ms/step - accuracy: 0.5006 - loss: 0.7587 - val_accuracy: 0.5046 - val_loss: 0.7718\n",
      "Epoch 10/50\n",
      "\u001b[1m4309/4309\u001b[0m \u001b[32m━━━━━━━━━━━━━━━━━━━━\u001b[0m\u001b[37m\u001b[0m \u001b[1m5s\u001b[0m 1ms/step - accuracy: 0.5017 - loss: 0.7558 - val_accuracy: 0.5046 - val_loss: 0.7272\n",
      "Epoch 11/50\n",
      "\u001b[1m4309/4309\u001b[0m \u001b[32m━━━━━━━━━━━━━━━━━━━━\u001b[0m\u001b[37m\u001b[0m \u001b[1m6s\u001b[0m 1ms/step - accuracy: 0.5011 - loss: 0.7552 - val_accuracy: 0.5046 - val_loss: 0.7481\n",
      "Epoch 12/50\n",
      "\u001b[1m4309/4309\u001b[0m \u001b[32m━━━━━━━━━━━━━━━━━━━━\u001b[0m\u001b[37m\u001b[0m \u001b[1m5s\u001b[0m 1ms/step - accuracy: 0.4984 - loss: 0.7597 - val_accuracy: 0.5046 - val_loss: 0.8474\n",
      "Epoch 13/50\n",
      "\u001b[1m4309/4309\u001b[0m \u001b[32m━━━━━━━━━━━━━━━━━━━━\u001b[0m\u001b[37m\u001b[0m \u001b[1m4s\u001b[0m 1ms/step - accuracy: 0.4995 - loss: 0.7582 - val_accuracy: 0.5042 - val_loss: 0.6941\n",
      "Epoch 14/50\n",
      "\u001b[1m4309/4309\u001b[0m \u001b[32m━━━━━━━━━━━━━━━━━━━━\u001b[0m\u001b[37m\u001b[0m \u001b[1m5s\u001b[0m 1ms/step - accuracy: 0.5003 - loss: 0.7533 - val_accuracy: 0.4954 - val_loss: 0.7046\n",
      "Epoch 15/50\n",
      "\u001b[1m4309/4309\u001b[0m \u001b[32m━━━━━━━━━━━━━━━━━━━━\u001b[0m\u001b[37m\u001b[0m \u001b[1m5s\u001b[0m 1ms/step - accuracy: 0.4989 - loss: 0.7604 - val_accuracy: 0.5046 - val_loss: 0.8795\n",
      "Epoch 16/50\n",
      "\u001b[1m4309/4309\u001b[0m \u001b[32m━━━━━━━━━━━━━━━━━━━━\u001b[0m\u001b[37m\u001b[0m \u001b[1m5s\u001b[0m 1ms/step - accuracy: 0.5008 - loss: 0.7570 - val_accuracy: 0.5046 - val_loss: 0.7002\n",
      "Epoch 17/50\n",
      "\u001b[1m4309/4309\u001b[0m \u001b[32m━━━━━━━━━━━━━━━━━━━━\u001b[0m\u001b[37m\u001b[0m \u001b[1m5s\u001b[0m 1ms/step - accuracy: 0.5002 - loss: 0.7593 - val_accuracy: 0.5046 - val_loss: 1.0312\n",
      "Epoch 18/50\n",
      "\u001b[1m4309/4309\u001b[0m \u001b[32m━━━━━━━━━━━━━━━━━━━━\u001b[0m\u001b[37m\u001b[0m \u001b[1m5s\u001b[0m 1ms/step - accuracy: 0.4996 - loss: 0.7566 - val_accuracy: 0.5046 - val_loss: 0.7153\n",
      "Epoch 19/50\n",
      "\u001b[1m4309/4309\u001b[0m \u001b[32m━━━━━━━━━━━━━━━━━━━━\u001b[0m\u001b[37m\u001b[0m \u001b[1m5s\u001b[0m 1ms/step - accuracy: 0.4988 - loss: 0.7634 - val_accuracy: 0.4954 - val_loss: 0.8560\n",
      "Epoch 20/50\n",
      "\u001b[1m4309/4309\u001b[0m \u001b[32m━━━━━━━━━━━━━━━━━━━━\u001b[0m\u001b[37m\u001b[0m \u001b[1m5s\u001b[0m 1ms/step - accuracy: 0.4976 - loss: 0.7645 - val_accuracy: 0.4956 - val_loss: 0.6946\n",
      "Epoch 21/50\n",
      "\u001b[1m4309/4309\u001b[0m \u001b[32m━━━━━━━━━━━━━━━━━━━━\u001b[0m\u001b[37m\u001b[0m \u001b[1m5s\u001b[0m 1ms/step - accuracy: 0.5012 - loss: 0.7539 - val_accuracy: 0.4954 - val_loss: 0.7300\n",
      "Epoch 22/50\n",
      "\u001b[1m4309/4309\u001b[0m \u001b[32m━━━━━━━━━━━━━━━━━━━━\u001b[0m\u001b[37m\u001b[0m \u001b[1m5s\u001b[0m 1ms/step - accuracy: 0.4990 - loss: 0.7607 - val_accuracy: 0.4954 - val_loss: 0.7528\n",
      "Epoch 23/50\n",
      "\u001b[1m4309/4309\u001b[0m \u001b[32m━━━━━━━━━━━━━━━━━━━━\u001b[0m\u001b[37m\u001b[0m \u001b[1m4s\u001b[0m 972us/step - accuracy: 0.4981 - loss: 0.7618 - val_accuracy: 0.5046 - val_loss: 0.7725\n",
      "Epoch 24/50\n",
      "\u001b[1m4309/4309\u001b[0m \u001b[32m━━━━━━━━━━━━━━━━━━━━\u001b[0m\u001b[37m\u001b[0m \u001b[1m4s\u001b[0m 997us/step - accuracy: 0.5004 - loss: 0.7565 - val_accuracy: 0.5045 - val_loss: 0.6946\n",
      "Epoch 25/50\n",
      "\u001b[1m4309/4309\u001b[0m \u001b[32m━━━━━━━━━━━━━━━━━━━━\u001b[0m\u001b[37m\u001b[0m \u001b[1m5s\u001b[0m 1ms/step - accuracy: 0.4999 - loss: 0.7605 - val_accuracy: 0.5046 - val_loss: 0.8470\n",
      "Epoch 26/50\n",
      "\u001b[1m4309/4309\u001b[0m \u001b[32m━━━━━━━━━━━━━━━━━━━━\u001b[0m\u001b[37m\u001b[0m \u001b[1m5s\u001b[0m 1ms/step - accuracy: 0.5004 - loss: 0.7561 - val_accuracy: 0.5046 - val_loss: 0.7255\n",
      "Epoch 27/50\n",
      "\u001b[1m4309/4309\u001b[0m \u001b[32m━━━━━━━━━━━━━━━━━━━━\u001b[0m\u001b[37m\u001b[0m \u001b[1m5s\u001b[0m 1ms/step - accuracy: 0.5005 - loss: 0.7554 - val_accuracy: 0.4954 - val_loss: 0.7187\n",
      "Epoch 28/50\n",
      "\u001b[1m4309/4309\u001b[0m \u001b[32m━━━━━━━━━━━━━━━━━━━━\u001b[0m\u001b[37m\u001b[0m \u001b[1m5s\u001b[0m 1ms/step - accuracy: 0.5011 - loss: 0.7543 - val_accuracy: 0.5046 - val_loss: 1.0973\n",
      "Epoch 29/50\n",
      "\u001b[1m4309/4309\u001b[0m \u001b[32m━━━━━━━━━━━━━━━━━━━━\u001b[0m\u001b[37m\u001b[0m \u001b[1m4s\u001b[0m 1ms/step - accuracy: 0.5008 - loss: 0.7541 - val_accuracy: 0.5046 - val_loss: 0.6951\n",
      "Epoch 30/50\n",
      "\u001b[1m4309/4309\u001b[0m \u001b[32m━━━━━━━━━━━━━━━━━━━━\u001b[0m\u001b[37m\u001b[0m \u001b[1m4s\u001b[0m 1ms/step - accuracy: 0.5018 - loss: 0.7535 - val_accuracy: 0.5046 - val_loss: 0.8690\n",
      "Epoch 31/50\n",
      "\u001b[1m4309/4309\u001b[0m \u001b[32m━━━━━━━━━━━━━━━━━━━━\u001b[0m\u001b[37m\u001b[0m \u001b[1m5s\u001b[0m 1ms/step - accuracy: 0.5014 - loss: 0.7540 - val_accuracy: 0.4958 - val_loss: 0.6946\n",
      "Epoch 32/50\n",
      "\u001b[1m4309/4309\u001b[0m \u001b[32m━━━━━━━━━━━━━━━━━━━━\u001b[0m\u001b[37m\u001b[0m \u001b[1m4s\u001b[0m 991us/step - accuracy: 0.5011 - loss: 0.7560 - val_accuracy: 0.4954 - val_loss: 0.7357\n",
      "Epoch 33/50\n",
      "\u001b[1m4309/4309\u001b[0m \u001b[32m━━━━━━━━━━━━━━━━━━━━\u001b[0m\u001b[37m\u001b[0m \u001b[1m4s\u001b[0m 1ms/step - accuracy: 0.5000 - loss: 0.7565 - val_accuracy: 0.4954 - val_loss: 0.7492\n",
      "Epoch 34/50\n",
      "\u001b[1m4309/4309\u001b[0m \u001b[32m━━━━━━━━━━━━━━━━━━━━\u001b[0m\u001b[37m\u001b[0m \u001b[1m4s\u001b[0m 991us/step - accuracy: 0.5019 - loss: 0.7514 - val_accuracy: 0.5046 - val_loss: 0.8021\n",
      "Epoch 35/50\n",
      "\u001b[1m4309/4309\u001b[0m \u001b[32m━━━━━━━━━━━━━━━━━━━━\u001b[0m\u001b[37m\u001b[0m \u001b[1m4s\u001b[0m 940us/step - accuracy: 0.5002 - loss: 0.7581 - val_accuracy: 0.5046 - val_loss: 0.7604\n",
      "Epoch 36/50\n",
      "\u001b[1m4309/4309\u001b[0m \u001b[32m━━━━━━━━━━━━━━━━━━━━\u001b[0m\u001b[37m\u001b[0m \u001b[1m4s\u001b[0m 933us/step - accuracy: 0.5000 - loss: 0.7576 - val_accuracy: 0.5046 - val_loss: 0.7465\n",
      "Epoch 37/50\n",
      "\u001b[1m4309/4309\u001b[0m \u001b[32m━━━━━━━━━━━━━━━━━━━━\u001b[0m\u001b[37m\u001b[0m \u001b[1m4s\u001b[0m 986us/step - accuracy: 0.4997 - loss: 0.7598 - val_accuracy: 0.5046 - val_loss: 0.7586\n",
      "Epoch 38/50\n",
      "\u001b[1m4309/4309\u001b[0m \u001b[32m━━━━━━━━━━━━━━━━━━━━\u001b[0m\u001b[37m\u001b[0m \u001b[1m4s\u001b[0m 1ms/step - accuracy: 0.5002 - loss: 0.7608 - val_accuracy: 0.5046 - val_loss: 0.9925\n",
      "Epoch 39/50\n",
      "\u001b[1m4309/4309\u001b[0m \u001b[32m━━━━━━━━━━━━━━━━━━━━\u001b[0m\u001b[37m\u001b[0m \u001b[1m4s\u001b[0m 935us/step - accuracy: 0.4995 - loss: 0.7648 - val_accuracy: 0.5046 - val_loss: 1.0460\n",
      "Epoch 40/50\n",
      "\u001b[1m4309/4309\u001b[0m \u001b[32m━━━━━━━━━━━━━━━━━━━━\u001b[0m\u001b[37m\u001b[0m \u001b[1m4s\u001b[0m 929us/step - accuracy: 0.4983 - loss: 0.7619 - val_accuracy: 0.4954 - val_loss: 0.8058\n",
      "Epoch 41/50\n",
      "\u001b[1m4309/4309\u001b[0m \u001b[32m━━━━━━━━━━━━━━━━━━━━\u001b[0m\u001b[37m\u001b[0m \u001b[1m4s\u001b[0m 914us/step - accuracy: 0.5007 - loss: 0.7552 - val_accuracy: 0.5046 - val_loss: 0.7019\n",
      "Epoch 42/50\n",
      "\u001b[1m4309/4309\u001b[0m \u001b[32m━━━━━━━━━━━━━━━━━━━━\u001b[0m\u001b[37m\u001b[0m \u001b[1m4s\u001b[0m 937us/step - accuracy: 0.5000 - loss: 0.7550 - val_accuracy: 0.5046 - val_loss: 0.8843\n",
      "Epoch 43/50\n",
      "\u001b[1m4309/4309\u001b[0m \u001b[32m━━━━━━━━━━━━━━━━━━━━\u001b[0m\u001b[37m\u001b[0m \u001b[1m4s\u001b[0m 950us/step - accuracy: 0.5018 - loss: 0.7502 - val_accuracy: 0.5046 - val_loss: 0.8013\n",
      "Epoch 44/50\n",
      "\u001b[1m4309/4309\u001b[0m \u001b[32m━━━━━━━━━━━━━━━━━━━━\u001b[0m\u001b[37m\u001b[0m \u001b[1m5s\u001b[0m 1ms/step - accuracy: 0.4996 - loss: 0.7564 - val_accuracy: 0.4954 - val_loss: 0.7116\n",
      "Epoch 45/50\n",
      "\u001b[1m4309/4309\u001b[0m \u001b[32m━━━━━━━━━━━━━━━━━━━━\u001b[0m\u001b[37m\u001b[0m \u001b[1m6s\u001b[0m 1ms/step - accuracy: 0.5008 - loss: 0.7543 - val_accuracy: 0.5046 - val_loss: 0.9018\n",
      "Epoch 46/50\n",
      "\u001b[1m4309/4309\u001b[0m \u001b[32m━━━━━━━━━━━━━━━━━━━━\u001b[0m\u001b[37m\u001b[0m \u001b[1m5s\u001b[0m 1ms/step - accuracy: 0.5007 - loss: 0.7566 - val_accuracy: 0.5046 - val_loss: 0.7637\n",
      "Epoch 47/50\n",
      "\u001b[1m4309/4309\u001b[0m \u001b[32m━━━━━━━━━━━━━━━━━━━━\u001b[0m\u001b[37m\u001b[0m \u001b[1m4s\u001b[0m 918us/step - accuracy: 0.5005 - loss: 0.7595 - val_accuracy: 0.4954 - val_loss: 0.7364\n",
      "Epoch 48/50\n",
      "\u001b[1m4309/4309\u001b[0m \u001b[32m━━━━━━━━━━━━━━━━━━━━\u001b[0m\u001b[37m\u001b[0m \u001b[1m4s\u001b[0m 913us/step - accuracy: 0.5010 - loss: 0.7594 - val_accuracy: 0.5046 - val_loss: 0.7647\n",
      "Epoch 49/50\n",
      "\u001b[1m4309/4309\u001b[0m \u001b[32m━━━━━━━━━━━━━━━━━━━━\u001b[0m\u001b[37m\u001b[0m \u001b[1m4s\u001b[0m 908us/step - accuracy: 0.5007 - loss: 0.7573 - val_accuracy: 0.4954 - val_loss: 0.7164\n",
      "Epoch 50/50\n",
      "\u001b[1m4309/4309\u001b[0m \u001b[32m━━━━━━━━━━━━━━━━━━━━\u001b[0m\u001b[37m\u001b[0m \u001b[1m5s\u001b[0m 1ms/step - accuracy: 0.5021 - loss: 0.7504 - val_accuracy: 0.5035 - val_loss: 0.6932\n"
     ]
    }
   ],
   "source": [
    "model_history = model1.fit(X_train, y_train, batch_size = 100, epochs = 50, \n",
    "                          validation_split = 0.2)"
   ]
  },
  {
   "cell_type": "code",
   "execution_count": 45,
   "metadata": {},
   "outputs": [
    {
     "name": "stdout",
     "output_type": "stream",
     "text": [
      "\u001b[1m4208/4208\u001b[0m \u001b[32m━━━━━━━━━━━━━━━━━━━━\u001b[0m\u001b[37m\u001b[0m \u001b[1m2s\u001b[0m 390us/step\n"
     ]
    },
    {
     "data": {
      "text/plain": [
       "array([[False],\n",
       "       [ True],\n",
       "       [ True],\n",
       "       ...,\n",
       "       [ True],\n",
       "       [False],\n",
       "       [ True]])"
      ]
     },
     "execution_count": 45,
     "metadata": {},
     "output_type": "execute_result"
    }
   ],
   "source": [
    "# predicting the values\n",
    "y_pred = model1.predict(X_test)\n",
    "y_pred = (y_pred > 0.5)\n",
    "y_pred"
   ]
  },
  {
   "cell_type": "code",
   "execution_count": 46,
   "metadata": {},
   "outputs": [
    {
     "data": {
      "text/plain": [
       "array([[0],\n",
       "       [1],\n",
       "       [1],\n",
       "       ...,\n",
       "       [1],\n",
       "       [0],\n",
       "       [1]])"
      ]
     },
     "execution_count": 46,
     "metadata": {},
     "output_type": "execute_result"
    }
   ],
   "source": [
    "# converting y_pred to int\n",
    "y_pred = y_pred.astype(int)\n",
    "y_pred"
   ]
  },
  {
   "cell_type": "code",
   "execution_count": 47,
   "metadata": {},
   "outputs": [
    {
     "data": {
      "text/plain": [
       "0.500638730856642"
      ]
     },
     "execution_count": 47,
     "metadata": {},
     "output_type": "execute_result"
    }
   ],
   "source": [
    "# accuracy score\n",
    "from sklearn.metrics import accuracy_score\n",
    "accuracy_score(y_test, y_pred)"
   ]
  },
  {
   "cell_type": "code",
   "execution_count": 48,
   "metadata": {},
   "outputs": [
    {
     "data": {
      "text/plain": [
       "array([[24072, 43136],\n",
       "       [24099, 43335]])"
      ]
     },
     "execution_count": 48,
     "metadata": {},
     "output_type": "execute_result"
    }
   ],
   "source": [
    "# confusion matrix\n",
    "from sklearn.metrics import confusion_matrix\n",
    "confusion_matrix(y_test, y_pred)\n"
   ]
  },
  {
   "cell_type": "markdown",
   "metadata": {},
   "source": [
    "### single layer multiperceptron model"
   ]
  },
  {
   "cell_type": "code",
   "execution_count": 56,
   "metadata": {},
   "outputs": [],
   "source": [
    "model2 = Sequential()"
   ]
  },
  {
   "cell_type": "code",
   "execution_count": 57,
   "metadata": {},
   "outputs": [
    {
     "name": "stderr",
     "output_type": "stream",
     "text": [
      "/home/srihari/Downloads/krishu/.venv/lib/python3.11/site-packages/keras/src/layers/core/dense.py:87: UserWarning: Do not pass an `input_shape`/`input_dim` argument to a layer. When using Sequential models, prefer using an `Input(shape)` object as the first layer in the model instead.\n",
      "  super().__init__(activity_regularizer=activity_regularizer, **kwargs)\n"
     ]
    }
   ],
   "source": [
    "model2.add(Dense(64, input_dim = X_train.shape[1], activation='relu', kernel_initializer='normal'))\n",
    "model2.add(Dense(1, activation='sigmoid', kernel_initializer='normal'))"
   ]
  },
  {
   "cell_type": "code",
   "execution_count": 58,
   "metadata": {},
   "outputs": [],
   "source": [
    "model2.compile(loss = 'binary_crossentropy', optimizer = 'SGD', metrics = ['accuracy'])"
   ]
  },
  {
   "cell_type": "code",
   "execution_count": 59,
   "metadata": {},
   "outputs": [
    {
     "name": "stdout",
     "output_type": "stream",
     "text": [
      "Epoch 1/50\n",
      "\u001b[1m4309/4309\u001b[0m \u001b[32m━━━━━━━━━━━━━━━━━━━━\u001b[0m\u001b[37m\u001b[0m \u001b[1m5s\u001b[0m 1ms/step - accuracy: 0.4994 - loss: 0.6941 - val_accuracy: 0.4954 - val_loss: 0.6947\n",
      "Epoch 2/50\n",
      "\u001b[1m4309/4309\u001b[0m \u001b[32m━━━━━━━━━━━━━━━━━━━━\u001b[0m\u001b[37m\u001b[0m \u001b[1m4s\u001b[0m 1ms/step - accuracy: 0.5037 - loss: 0.6934 - val_accuracy: 0.5048 - val_loss: 0.6931\n",
      "Epoch 3/50\n",
      "\u001b[1m4309/4309\u001b[0m \u001b[32m━━━━━━━━━━━━━━━━━━━━\u001b[0m\u001b[37m\u001b[0m \u001b[1m4s\u001b[0m 997us/step - accuracy: 0.5011 - loss: 0.6932 - val_accuracy: 0.5040 - val_loss: 0.6931\n",
      "Epoch 4/50\n",
      "\u001b[1m4309/4309\u001b[0m \u001b[32m━━━━━━━━━━━━━━━━━━━━\u001b[0m\u001b[37m\u001b[0m \u001b[1m4s\u001b[0m 950us/step - accuracy: 0.5014 - loss: 0.6932 - val_accuracy: 0.4990 - val_loss: 0.6932\n",
      "Epoch 5/50\n",
      "\u001b[1m4309/4309\u001b[0m \u001b[32m━━━━━━━━━━━━━━━━━━━━\u001b[0m\u001b[37m\u001b[0m \u001b[1m4s\u001b[0m 959us/step - accuracy: 0.5022 - loss: 0.6931 - val_accuracy: 0.4973 - val_loss: 0.6932\n",
      "Epoch 6/50\n",
      "\u001b[1m4309/4309\u001b[0m \u001b[32m━━━━━━━━━━━━━━━━━━━━\u001b[0m\u001b[37m\u001b[0m \u001b[1m5s\u001b[0m 1ms/step - accuracy: 0.5024 - loss: 0.6931 - val_accuracy: 0.4953 - val_loss: 0.6933\n",
      "Epoch 7/50\n",
      "\u001b[1m4309/4309\u001b[0m \u001b[32m━━━━━━━━━━━━━━━━━━━━\u001b[0m\u001b[37m\u001b[0m \u001b[1m5s\u001b[0m 1ms/step - accuracy: 0.5019 - loss: 0.6931 - val_accuracy: 0.5040 - val_loss: 0.6931\n",
      "Epoch 8/50\n",
      "\u001b[1m4309/4309\u001b[0m \u001b[32m━━━━━━━━━━━━━━━━━━━━\u001b[0m\u001b[37m\u001b[0m \u001b[1m6s\u001b[0m 1ms/step - accuracy: 0.5025 - loss: 0.6931 - val_accuracy: 0.5064 - val_loss: 0.6931\n",
      "Epoch 9/50\n",
      "\u001b[1m4309/4309\u001b[0m \u001b[32m━━━━━━━━━━━━━━━━━━━━\u001b[0m\u001b[37m\u001b[0m \u001b[1m6s\u001b[0m 1ms/step - accuracy: 0.5016 - loss: 0.6931 - val_accuracy: 0.5044 - val_loss: 0.6931\n",
      "Epoch 10/50\n",
      "\u001b[1m4309/4309\u001b[0m \u001b[32m━━━━━━━━━━━━━━━━━━━━\u001b[0m\u001b[37m\u001b[0m \u001b[1m5s\u001b[0m 1ms/step - accuracy: 0.5028 - loss: 0.6931 - val_accuracy: 0.5053 - val_loss: 0.6931\n",
      "Epoch 11/50\n",
      "\u001b[1m4309/4309\u001b[0m \u001b[32m━━━━━━━━━━━━━━━━━━━━\u001b[0m\u001b[37m\u001b[0m \u001b[1m5s\u001b[0m 1ms/step - accuracy: 0.5008 - loss: 0.6932 - val_accuracy: 0.5032 - val_loss: 0.6931\n",
      "Epoch 12/50\n",
      "\u001b[1m4309/4309\u001b[0m \u001b[32m━━━━━━━━━━━━━━━━━━━━\u001b[0m\u001b[37m\u001b[0m \u001b[1m6s\u001b[0m 1ms/step - accuracy: 0.5014 - loss: 0.6931 - val_accuracy: 0.5027 - val_loss: 0.6931\n",
      "Epoch 13/50\n",
      "\u001b[1m4309/4309\u001b[0m \u001b[32m━━━━━━━━━━━━━━━━━━━━\u001b[0m\u001b[37m\u001b[0m \u001b[1m6s\u001b[0m 1ms/step - accuracy: 0.5010 - loss: 0.6931 - val_accuracy: 0.5022 - val_loss: 0.6931\n",
      "Epoch 14/50\n",
      "\u001b[1m4309/4309\u001b[0m \u001b[32m━━━━━━━━━━━━━━━━━━━━\u001b[0m\u001b[37m\u001b[0m \u001b[1m6s\u001b[0m 1ms/step - accuracy: 0.5021 - loss: 0.6931 - val_accuracy: 0.5044 - val_loss: 0.6931\n",
      "Epoch 15/50\n",
      "\u001b[1m4309/4309\u001b[0m \u001b[32m━━━━━━━━━━━━━━━━━━━━\u001b[0m\u001b[37m\u001b[0m \u001b[1m5s\u001b[0m 1ms/step - accuracy: 0.5028 - loss: 0.6931 - val_accuracy: 0.4988 - val_loss: 0.6932\n",
      "Epoch 16/50\n",
      "\u001b[1m4309/4309\u001b[0m \u001b[32m━━━━━━━━━━━━━━━━━━━━\u001b[0m\u001b[37m\u001b[0m \u001b[1m5s\u001b[0m 1ms/step - accuracy: 0.5026 - loss: 0.6931 - val_accuracy: 0.4990 - val_loss: 0.6932\n",
      "Epoch 17/50\n",
      "\u001b[1m4309/4309\u001b[0m \u001b[32m━━━━━━━━━━━━━━━━━━━━\u001b[0m\u001b[37m\u001b[0m \u001b[1m5s\u001b[0m 1ms/step - accuracy: 0.5016 - loss: 0.6931 - val_accuracy: 0.5047 - val_loss: 0.6931\n",
      "Epoch 18/50\n",
      "\u001b[1m4309/4309\u001b[0m \u001b[32m━━━━━━━━━━━━━━━━━━━━\u001b[0m\u001b[37m\u001b[0m \u001b[1m6s\u001b[0m 1ms/step - accuracy: 0.5021 - loss: 0.6931 - val_accuracy: 0.5042 - val_loss: 0.6931\n",
      "Epoch 19/50\n",
      "\u001b[1m4309/4309\u001b[0m \u001b[32m━━━━━━━━━━━━━━━━━━━━\u001b[0m\u001b[37m\u001b[0m \u001b[1m5s\u001b[0m 1ms/step - accuracy: 0.5027 - loss: 0.6931 - val_accuracy: 0.5026 - val_loss: 0.6931\n",
      "Epoch 20/50\n",
      "\u001b[1m4309/4309\u001b[0m \u001b[32m━━━━━━━━━━━━━━━━━━━━\u001b[0m\u001b[37m\u001b[0m \u001b[1m6s\u001b[0m 1ms/step - accuracy: 0.5031 - loss: 0.6931 - val_accuracy: 0.4983 - val_loss: 0.6932\n",
      "Epoch 21/50\n",
      "\u001b[1m4309/4309\u001b[0m \u001b[32m━━━━━━━━━━━━━━━━━━━━\u001b[0m\u001b[37m\u001b[0m \u001b[1m5s\u001b[0m 1ms/step - accuracy: 0.5031 - loss: 0.6931 - val_accuracy: 0.5057 - val_loss: 0.6931\n",
      "Epoch 22/50\n",
      "\u001b[1m4309/4309\u001b[0m \u001b[32m━━━━━━━━━━━━━━━━━━━━\u001b[0m\u001b[37m\u001b[0m \u001b[1m5s\u001b[0m 1ms/step - accuracy: 0.5040 - loss: 0.6931 - val_accuracy: 0.5047 - val_loss: 0.6931\n",
      "Epoch 23/50\n",
      "\u001b[1m4309/4309\u001b[0m \u001b[32m━━━━━━━━━━━━━━━━━━━━\u001b[0m\u001b[37m\u001b[0m \u001b[1m5s\u001b[0m 1ms/step - accuracy: 0.5027 - loss: 0.6931 - val_accuracy: 0.4997 - val_loss: 0.6932\n",
      "Epoch 24/50\n",
      "\u001b[1m4309/4309\u001b[0m \u001b[32m━━━━━━━━━━━━━━━━━━━━\u001b[0m\u001b[37m\u001b[0m \u001b[1m6s\u001b[0m 1ms/step - accuracy: 0.5015 - loss: 0.6931 - val_accuracy: 0.4986 - val_loss: 0.6932\n",
      "Epoch 25/50\n",
      "\u001b[1m4309/4309\u001b[0m \u001b[32m━━━━━━━━━━━━━━━━━━━━\u001b[0m\u001b[37m\u001b[0m \u001b[1m6s\u001b[0m 1ms/step - accuracy: 0.5026 - loss: 0.6931 - val_accuracy: 0.5045 - val_loss: 0.6931\n",
      "Epoch 26/50\n",
      "\u001b[1m4309/4309\u001b[0m \u001b[32m━━━━━━━━━━━━━━━━━━━━\u001b[0m\u001b[37m\u001b[0m \u001b[1m6s\u001b[0m 1ms/step - accuracy: 0.5026 - loss: 0.6931 - val_accuracy: 0.4997 - val_loss: 0.6931\n",
      "Epoch 27/50\n",
      "\u001b[1m4309/4309\u001b[0m \u001b[32m━━━━━━━━━━━━━━━━━━━━\u001b[0m\u001b[37m\u001b[0m \u001b[1m6s\u001b[0m 1ms/step - accuracy: 0.5018 - loss: 0.6931 - val_accuracy: 0.5044 - val_loss: 0.6931\n",
      "Epoch 28/50\n",
      "\u001b[1m4309/4309\u001b[0m \u001b[32m━━━━━━━━━━━━━━━━━━━━\u001b[0m\u001b[37m\u001b[0m \u001b[1m6s\u001b[0m 1ms/step - accuracy: 0.5024 - loss: 0.6931 - val_accuracy: 0.5045 - val_loss: 0.6931\n",
      "Epoch 29/50\n",
      "\u001b[1m4309/4309\u001b[0m \u001b[32m━━━━━━━━━━━━━━━━━━━━\u001b[0m\u001b[37m\u001b[0m \u001b[1m5s\u001b[0m 1ms/step - accuracy: 0.5038 - loss: 0.6931 - val_accuracy: 0.5043 - val_loss: 0.6931\n",
      "Epoch 30/50\n",
      "\u001b[1m4309/4309\u001b[0m \u001b[32m━━━━━━━━━━━━━━━━━━━━\u001b[0m\u001b[37m\u001b[0m \u001b[1m6s\u001b[0m 1ms/step - accuracy: 0.5023 - loss: 0.6931 - val_accuracy: 0.5033 - val_loss: 0.6931\n",
      "Epoch 31/50\n",
      "\u001b[1m4309/4309\u001b[0m \u001b[32m━━━━━━━━━━━━━━━━━━━━\u001b[0m\u001b[37m\u001b[0m \u001b[1m6s\u001b[0m 1ms/step - accuracy: 0.5050 - loss: 0.6931 - val_accuracy: 0.5029 - val_loss: 0.6931\n",
      "Epoch 32/50\n",
      "\u001b[1m4309/4309\u001b[0m \u001b[32m━━━━━━━━━━━━━━━━━━━━\u001b[0m\u001b[37m\u001b[0m \u001b[1m6s\u001b[0m 1ms/step - accuracy: 0.5028 - loss: 0.6931 - val_accuracy: 0.5019 - val_loss: 0.6931\n",
      "Epoch 33/50\n",
      "\u001b[1m4309/4309\u001b[0m \u001b[32m━━━━━━━━━━━━━━━━━━━━\u001b[0m\u001b[37m\u001b[0m \u001b[1m6s\u001b[0m 1ms/step - accuracy: 0.5041 - loss: 0.6931 - val_accuracy: 0.5064 - val_loss: 0.6931\n",
      "Epoch 34/50\n",
      "\u001b[1m4309/4309\u001b[0m \u001b[32m━━━━━━━━━━━━━━━━━━━━\u001b[0m\u001b[37m\u001b[0m \u001b[1m6s\u001b[0m 1ms/step - accuracy: 0.5052 - loss: 0.6931 - val_accuracy: 0.5070 - val_loss: 0.6931\n",
      "Epoch 35/50\n",
      "\u001b[1m4309/4309\u001b[0m \u001b[32m━━━━━━━━━━━━━━━━━━━━\u001b[0m\u001b[37m\u001b[0m \u001b[1m6s\u001b[0m 1ms/step - accuracy: 0.5025 - loss: 0.6931 - val_accuracy: 0.5064 - val_loss: 0.6931\n",
      "Epoch 36/50\n",
      "\u001b[1m4309/4309\u001b[0m \u001b[32m━━━━━━━━━━━━━━━━━━━━\u001b[0m\u001b[37m\u001b[0m \u001b[1m7s\u001b[0m 2ms/step - accuracy: 0.5042 - loss: 0.6931 - val_accuracy: 0.4954 - val_loss: 0.6935\n",
      "Epoch 37/50\n",
      "\u001b[1m4309/4309\u001b[0m \u001b[32m━━━━━━━━━━━━━━━━━━━━\u001b[0m\u001b[37m\u001b[0m \u001b[1m22s\u001b[0m 5ms/step - accuracy: 0.5027 - loss: 0.6931 - val_accuracy: 0.5047 - val_loss: 0.6931\n",
      "Epoch 38/50\n",
      "\u001b[1m4309/4309\u001b[0m \u001b[32m━━━━━━━━━━━━━━━━━━━━\u001b[0m\u001b[37m\u001b[0m \u001b[1m13s\u001b[0m 3ms/step - accuracy: 0.5032 - loss: 0.6931 - val_accuracy: 0.4963 - val_loss: 0.6933\n",
      "Epoch 39/50\n",
      "\u001b[1m4309/4309\u001b[0m \u001b[32m━━━━━━━━━━━━━━━━━━━━\u001b[0m\u001b[37m\u001b[0m \u001b[1m10s\u001b[0m 2ms/step - accuracy: 0.5045 - loss: 0.6931 - val_accuracy: 0.5034 - val_loss: 0.6931\n",
      "Epoch 40/50\n",
      "\u001b[1m4309/4309\u001b[0m \u001b[32m━━━━━━━━━━━━━━━━━━━━\u001b[0m\u001b[37m\u001b[0m \u001b[1m9s\u001b[0m 2ms/step - accuracy: 0.5058 - loss: 0.6930 - val_accuracy: 0.5067 - val_loss: 0.6931\n",
      "Epoch 41/50\n",
      "\u001b[1m4309/4309\u001b[0m \u001b[32m━━━━━━━━━━━━━━━━━━━━\u001b[0m\u001b[37m\u001b[0m \u001b[1m10s\u001b[0m 2ms/step - accuracy: 0.5048 - loss: 0.6931 - val_accuracy: 0.5082 - val_loss: 0.6930\n",
      "Epoch 42/50\n",
      "\u001b[1m4309/4309\u001b[0m \u001b[32m━━━━━━━━━━━━━━━━━━━━\u001b[0m\u001b[37m\u001b[0m \u001b[1m9s\u001b[0m 2ms/step - accuracy: 0.5040 - loss: 0.6931 - val_accuracy: 0.5000 - val_loss: 0.6932\n",
      "Epoch 43/50\n",
      "\u001b[1m4309/4309\u001b[0m \u001b[32m━━━━━━━━━━━━━━━━━━━━\u001b[0m\u001b[37m\u001b[0m \u001b[1m9s\u001b[0m 2ms/step - accuracy: 0.5043 - loss: 0.6931 - val_accuracy: 0.5065 - val_loss: 0.6930\n",
      "Epoch 44/50\n",
      "\u001b[1m4309/4309\u001b[0m \u001b[32m━━━━━━━━━━━━━━━━━━━━\u001b[0m\u001b[37m\u001b[0m \u001b[1m11s\u001b[0m 2ms/step - accuracy: 0.5052 - loss: 0.6931 - val_accuracy: 0.4989 - val_loss: 0.6932\n",
      "Epoch 45/50\n",
      "\u001b[1m4309/4309\u001b[0m \u001b[32m━━━━━━━━━━━━━━━━━━━━\u001b[0m\u001b[37m\u001b[0m \u001b[1m9s\u001b[0m 2ms/step - accuracy: 0.5035 - loss: 0.6931 - val_accuracy: 0.5006 - val_loss: 0.6931\n",
      "Epoch 46/50\n",
      "\u001b[1m4309/4309\u001b[0m \u001b[32m━━━━━━━━━━━━━━━━━━━━\u001b[0m\u001b[37m\u001b[0m \u001b[1m9s\u001b[0m 2ms/step - accuracy: 0.5045 - loss: 0.6931 - val_accuracy: 0.5006 - val_loss: 0.6932\n",
      "Epoch 47/50\n",
      "\u001b[1m4309/4309\u001b[0m \u001b[32m━━━━━━━━━━━━━━━━━━━━\u001b[0m\u001b[37m\u001b[0m \u001b[1m9s\u001b[0m 2ms/step - accuracy: 0.5045 - loss: 0.6931 - val_accuracy: 0.5064 - val_loss: 0.6930\n",
      "Epoch 48/50\n",
      "\u001b[1m4309/4309\u001b[0m \u001b[32m━━━━━━━━━━━━━━━━━━━━\u001b[0m\u001b[37m\u001b[0m \u001b[1m9s\u001b[0m 2ms/step - accuracy: 0.5048 - loss: 0.6931 - val_accuracy: 0.5074 - val_loss: 0.6930\n",
      "Epoch 49/50\n",
      "\u001b[1m4309/4309\u001b[0m \u001b[32m━━━━━━━━━━━━━━━━━━━━\u001b[0m\u001b[37m\u001b[0m \u001b[1m10s\u001b[0m 2ms/step - accuracy: 0.5051 - loss: 0.6930 - val_accuracy: 0.5031 - val_loss: 0.6931\n",
      "Epoch 50/50\n",
      "\u001b[1m4309/4309\u001b[0m \u001b[32m━━━━━━━━━━━━━━━━━━━━\u001b[0m\u001b[37m\u001b[0m \u001b[1m8s\u001b[0m 2ms/step - accuracy: 0.5061 - loss: 0.6931 - val_accuracy: 0.5010 - val_loss: 0.6932\n"
     ]
    }
   ],
   "source": [
    "model_history = model2.fit(X_train, y_train, batch_size = 100, epochs = 50, \n",
    "                          validation_split = 0.2)"
   ]
  },
  {
   "cell_type": "code",
   "execution_count": 61,
   "metadata": {},
   "outputs": [
    {
     "name": "stdout",
     "output_type": "stream",
     "text": [
      "\u001b[1m4208/4208\u001b[0m \u001b[32m━━━━━━━━━━━━━━━━━━━━\u001b[0m\u001b[37m\u001b[0m \u001b[1m3s\u001b[0m 794us/step\n"
     ]
    },
    {
     "data": {
      "text/plain": [
       "array([[False],\n",
       "       [ True],\n",
       "       [False],\n",
       "       ...,\n",
       "       [ True],\n",
       "       [False],\n",
       "       [False]])"
      ]
     },
     "execution_count": 61,
     "metadata": {},
     "output_type": "execute_result"
    }
   ],
   "source": [
    "# predicting the values\n",
    "y_pred = model2.predict(X_test)\n",
    "y_pred = (y_pred > 0.5)\n",
    "y_pred"
   ]
  },
  {
   "cell_type": "code",
   "execution_count": 62,
   "metadata": {},
   "outputs": [
    {
     "data": {
      "text/plain": [
       "array([[0],\n",
       "       [1],\n",
       "       [0],\n",
       "       ...,\n",
       "       [1],\n",
       "       [0],\n",
       "       [0]])"
      ]
     },
     "execution_count": 62,
     "metadata": {},
     "output_type": "execute_result"
    }
   ],
   "source": [
    "# converting y_pred to int\n",
    "y_pred = y_pred.astype(int)\n",
    "y_pred"
   ]
  },
  {
   "cell_type": "code",
   "execution_count": 63,
   "metadata": {},
   "outputs": [
    {
     "data": {
      "text/plain": [
       "0.502970841193684"
      ]
     },
     "execution_count": 63,
     "metadata": {},
     "output_type": "execute_result"
    }
   ],
   "source": [
    "# accuracy score\n",
    "from sklearn.metrics import accuracy_score\n",
    "accuracy_score(y_test, y_pred)"
   ]
  },
  {
   "cell_type": "code",
   "execution_count": 64,
   "metadata": {},
   "outputs": [
    {
     "data": {
      "text/plain": [
       "array([[48240, 18968],\n",
       "       [47953, 19481]])"
      ]
     },
     "execution_count": 64,
     "metadata": {},
     "output_type": "execute_result"
    }
   ],
   "source": [
    "# confusion matrix\n",
    "from sklearn.metrics import confusion_matrix\n",
    "confusion_matrix(y_test, y_pred)\n"
   ]
  },
  {
   "cell_type": "code",
   "execution_count": 65,
   "metadata": {},
   "outputs": [
    {
     "name": "stderr",
     "output_type": "stream",
     "text": [
      "WARNING:absl:You are saving your model as an HDF5 file via `model.save()` or `keras.saving.save_model(model)`. This file format is considered legacy. We recommend using instead the native Keras format, e.g. `model.save('my_model.keras')` or `keras.saving.save_model(model, 'my_model.keras')`. \n"
     ]
    }
   ],
   "source": [
    "# saving the model1\n",
    "model1.save(\"./model1.h5\")"
   ]
  },
  {
   "cell_type": "code",
   "execution_count": 66,
   "metadata": {},
   "outputs": [
    {
     "name": "stderr",
     "output_type": "stream",
     "text": [
      "WARNING:absl:You are saving your model as an HDF5 file via `model.save()` or `keras.saving.save_model(model)`. This file format is considered legacy. We recommend using instead the native Keras format, e.g. `model.save('my_model.keras')` or `keras.saving.save_model(model, 'my_model.keras')`. \n"
     ]
    }
   ],
   "source": [
    "# saving model2 \n",
    "model2.save(\"./model2.h5\")"
   ]
  },
  {
   "cell_type": "code",
   "execution_count": null,
   "metadata": {},
   "outputs": [],
   "source": []
  }
 ],
 "metadata": {
  "kernelspec": {
   "display_name": ".venv",
   "language": "python",
   "name": "python3"
  },
  "language_info": {
   "codemirror_mode": {
    "name": "ipython",
    "version": 3
   },
   "file_extension": ".py",
   "mimetype": "text/x-python",
   "name": "python",
   "nbconvert_exporter": "python",
   "pygments_lexer": "ipython3",
   "version": "3.11.11"
  }
 },
 "nbformat": 4,
 "nbformat_minor": 2
}
